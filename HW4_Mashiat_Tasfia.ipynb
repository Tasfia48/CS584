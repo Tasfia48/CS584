{
  "nbformat": 4,
  "nbformat_minor": 0,
  "metadata": {
    "colab": {
      "name": "HW4_Mashiat_Tasfia.ipynb",
      "provenance": [],
      "toc_visible": true,
      "mount_file_id": "1f3duE6RJ_EaQtzM6Sq0Xay4-_TAPU8Zy",
      "authorship_tag": "ABX9TyNTanI3Ogu55VTsqHP6hi7C",
      "include_colab_link": true
    },
    "kernelspec": {
      "name": "python3",
      "display_name": "Python 3"
    }
  },
  "cells": [
    {
      "cell_type": "markdown",
      "metadata": {
        "id": "view-in-github",
        "colab_type": "text"
      },
      "source": [
        "<a href=\"https://colab.research.google.com/github/Tasfia48/CS584/blob/main/HW4_Mashiat_Tasfia.ipynb\" target=\"_parent\"><img src=\"https://colab.research.google.com/assets/colab-badge.svg\" alt=\"Open In Colab\"/></a>"
      ]
    },
    {
      "cell_type": "markdown",
      "metadata": {
        "id": "GtbuUozlloIs"
      },
      "source": [
        "* Team Name: \"chi\"\n",
        "* Rank: 418\n",
        "* RMSE: 0.80"
      ]
    },
    {
      "cell_type": "markdown",
      "metadata": {
        "id": "Lq4Yd_V2lwhv"
      },
      "source": [
        "#Goal\n",
        "My goal for this homework was to build a movie recommender system to predict the 5-star rating a movie will get for a given user. I utilized the idea of model based recommender system to complete the task."
      ]
    },
    {
      "cell_type": "code",
      "metadata": {
        "id": "PWFDauLwlg9O",
        "colab": {
          "base_uri": "https://localhost:8080/"
        },
        "outputId": "2bbad6af-9d60-45de-a88c-7eb464f4e51a"
      },
      "source": [
        "#Load the necessary python libraries\n",
        "import numpy as np\n",
        "import tensorflow as tf\n",
        "from tensorflow import keras\n",
        "import pandas as pd\n",
        "import seaborn as sns\n",
        "from pylab import rcParams\n",
        "import string\n",
        "from scipy.sparse.linalg import svds\n",
        "import re\n",
        "import sklearn\n",
        "from sklearn.decomposition import TruncatedSVD\n",
        "import matplotlib.pyplot as plt\n",
        "import math\n",
        "from matplotlib import rc\n",
        "from google.colab import drive\n",
        "from sklearn.model_selection import train_test_split\n",
        "from collections import Counter, defaultdict\n",
        "from sklearn.metrics import accuracy_score\n",
        "import matplotlib.ticker as ticker\n",
        "from math import sqrt\n",
        "from sklearn.metrics import mean_squared_error\n",
        "from scipy.spatial.distance import cosine\n",
        "from sklearn.metrics.pairwise import cosine_similarity\n",
        "from scipy import sparse\n",
        "import nltk\n",
        "from nltk.corpus import stopwords\n",
        "nltk.download('stopwords')\n",
        "from sklearn.feature_extraction.text import TfidfVectorizer"
      ],
      "execution_count": null,
      "outputs": [
        {
          "output_type": "stream",
          "text": [
            "[nltk_data] Downloading package stopwords to /root/nltk_data...\n",
            "[nltk_data]   Package stopwords is already up-to-date!\n"
          ],
          "name": "stdout"
        }
      ]
    },
    {
      "cell_type": "markdown",
      "metadata": {
        "id": "s1rtblGfnMxP"
      },
      "source": [
        "### Load Data"
      ]
    },
    {
      "cell_type": "code",
      "metadata": {
        "id": "N2SmrmoUnK4J"
      },
      "source": [
        "dfTrain = pd.read_csv('train.dat')\n",
        "dfTest = pd.read_csv('test.dat')"
      ],
      "execution_count": null,
      "outputs": []
    },
    {
      "cell_type": "code",
      "metadata": {
        "id": "BozIPYvHmlV9"
      },
      "source": [
        "# Process train and test data\n",
        "def preprocess(df):\n",
        "  df['userID'] = df['userID movieID rating'].str.split(' ').str[0]\n",
        "  df['movieID'] = df['userID movieID rating'].str.split(' ').str[1]\n",
        "  df['rating'] = df['userID movieID rating'].str.split(' ').str[2]\n",
        "  df= df[['userID','movieID','rating']]\n",
        "  df['movieID']=df['movieID'].astype('str')\n",
        "  df['userID']=df['userID'].astype('str')\n",
        "  df['rating']=df['rating'].astype('float')\n",
        "  return df\n",
        "def preprocess_test(df):\n",
        "  df['userID'] = df['userID movieID'].str.split(' ').str[0]\n",
        "  df['movieID'] = df['userID movieID'].str.split(' ').str[1]\n",
        "  df= df[['userID','movieID']]\n",
        "  df['movieID']=df['movieID'].astype('str')\n",
        "  df['userID']=df['userID'].astype('str')\n",
        "  return df  "
      ],
      "execution_count": null,
      "outputs": []
    },
    {
      "cell_type": "code",
      "metadata": {
        "id": "ZWEdypzCnspb",
        "colab": {
          "base_uri": "https://localhost:8080/"
        },
        "outputId": "12090375-ebb3-41e2-a024-d2c6cfa33e54"
      },
      "source": [
        "trainData = preprocess(dfTrain)\n",
        "testData = preprocess_test(dfTest)"
      ],
      "execution_count": null,
      "outputs": [
        {
          "output_type": "stream",
          "text": [
            "/usr/local/lib/python3.6/dist-packages/ipykernel_launcher.py:7: SettingWithCopyWarning: \n",
            "A value is trying to be set on a copy of a slice from a DataFrame.\n",
            "Try using .loc[row_indexer,col_indexer] = value instead\n",
            "\n",
            "See the caveats in the documentation: https://pandas.pydata.org/pandas-docs/stable/user_guide/indexing.html#returning-a-view-versus-a-copy\n",
            "  import sys\n",
            "/usr/local/lib/python3.6/dist-packages/ipykernel_launcher.py:8: SettingWithCopyWarning: \n",
            "A value is trying to be set on a copy of a slice from a DataFrame.\n",
            "Try using .loc[row_indexer,col_indexer] = value instead\n",
            "\n",
            "See the caveats in the documentation: https://pandas.pydata.org/pandas-docs/stable/user_guide/indexing.html#returning-a-view-versus-a-copy\n",
            "  \n",
            "/usr/local/lib/python3.6/dist-packages/ipykernel_launcher.py:9: SettingWithCopyWarning: \n",
            "A value is trying to be set on a copy of a slice from a DataFrame.\n",
            "Try using .loc[row_indexer,col_indexer] = value instead\n",
            "\n",
            "See the caveats in the documentation: https://pandas.pydata.org/pandas-docs/stable/user_guide/indexing.html#returning-a-view-versus-a-copy\n",
            "  if __name__ == '__main__':\n",
            "/usr/local/lib/python3.6/dist-packages/ipykernel_launcher.py:15: SettingWithCopyWarning: \n",
            "A value is trying to be set on a copy of a slice from a DataFrame.\n",
            "Try using .loc[row_indexer,col_indexer] = value instead\n",
            "\n",
            "See the caveats in the documentation: https://pandas.pydata.org/pandas-docs/stable/user_guide/indexing.html#returning-a-view-versus-a-copy\n",
            "  from ipykernel import kernelapp as app\n",
            "/usr/local/lib/python3.6/dist-packages/ipykernel_launcher.py:16: SettingWithCopyWarning: \n",
            "A value is trying to be set on a copy of a slice from a DataFrame.\n",
            "Try using .loc[row_indexer,col_indexer] = value instead\n",
            "\n",
            "See the caveats in the documentation: https://pandas.pydata.org/pandas-docs/stable/user_guide/indexing.html#returning-a-view-versus-a-copy\n",
            "  app.launch_new_instance()\n"
          ],
          "name": "stderr"
        }
      ]
    },
    {
      "cell_type": "code",
      "metadata": {
        "id": "CN-NgGLvoCn9",
        "colab": {
          "base_uri": "https://localhost:8080/",
          "height": 195
        },
        "outputId": "fdf474b2-b4ce-44ec-a19b-6fa063efeb11"
      },
      "source": [
        "#first five records of training data\n",
        "trainData.head(5)"
      ],
      "execution_count": null,
      "outputs": [
        {
          "output_type": "execute_result",
          "data": {
            "text/html": [
              "<div>\n",
              "<style scoped>\n",
              "    .dataframe tbody tr th:only-of-type {\n",
              "        vertical-align: middle;\n",
              "    }\n",
              "\n",
              "    .dataframe tbody tr th {\n",
              "        vertical-align: top;\n",
              "    }\n",
              "\n",
              "    .dataframe thead th {\n",
              "        text-align: right;\n",
              "    }\n",
              "</style>\n",
              "<table border=\"1\" class=\"dataframe\">\n",
              "  <thead>\n",
              "    <tr style=\"text-align: right;\">\n",
              "      <th></th>\n",
              "      <th>userID</th>\n",
              "      <th>movieID</th>\n",
              "      <th>rating</th>\n",
              "    </tr>\n",
              "  </thead>\n",
              "  <tbody>\n",
              "    <tr>\n",
              "      <th>0</th>\n",
              "      <td>75</td>\n",
              "      <td>3</td>\n",
              "      <td>1.0</td>\n",
              "    </tr>\n",
              "    <tr>\n",
              "      <th>1</th>\n",
              "      <td>75</td>\n",
              "      <td>32</td>\n",
              "      <td>4.5</td>\n",
              "    </tr>\n",
              "    <tr>\n",
              "      <th>2</th>\n",
              "      <td>75</td>\n",
              "      <td>110</td>\n",
              "      <td>4.0</td>\n",
              "    </tr>\n",
              "    <tr>\n",
              "      <th>3</th>\n",
              "      <td>75</td>\n",
              "      <td>163</td>\n",
              "      <td>4.0</td>\n",
              "    </tr>\n",
              "    <tr>\n",
              "      <th>4</th>\n",
              "      <td>75</td>\n",
              "      <td>165</td>\n",
              "      <td>4.5</td>\n",
              "    </tr>\n",
              "  </tbody>\n",
              "</table>\n",
              "</div>"
            ],
            "text/plain": [
              "  userID movieID  rating\n",
              "0     75       3     1.0\n",
              "1     75      32     4.5\n",
              "2     75     110     4.0\n",
              "3     75     163     4.0\n",
              "4     75     165     4.5"
            ]
          },
          "metadata": {
            "tags": []
          },
          "execution_count": 115
        }
      ]
    },
    {
      "cell_type": "code",
      "metadata": {
        "id": "GEQLn0_toQb-",
        "colab": {
          "base_uri": "https://localhost:8080/",
          "height": 195
        },
        "outputId": "d0dc9f6f-ba91-464d-eaef-9e11c8a66dcc"
      },
      "source": [
        "#first five records of test data\n",
        "testData.head(5)"
      ],
      "execution_count": null,
      "outputs": [
        {
          "output_type": "execute_result",
          "data": {
            "text/html": [
              "<div>\n",
              "<style scoped>\n",
              "    .dataframe tbody tr th:only-of-type {\n",
              "        vertical-align: middle;\n",
              "    }\n",
              "\n",
              "    .dataframe tbody tr th {\n",
              "        vertical-align: top;\n",
              "    }\n",
              "\n",
              "    .dataframe thead th {\n",
              "        text-align: right;\n",
              "    }\n",
              "</style>\n",
              "<table border=\"1\" class=\"dataframe\">\n",
              "  <thead>\n",
              "    <tr style=\"text-align: right;\">\n",
              "      <th></th>\n",
              "      <th>userID</th>\n",
              "      <th>movieID</th>\n",
              "    </tr>\n",
              "  </thead>\n",
              "  <tbody>\n",
              "    <tr>\n",
              "      <th>0</th>\n",
              "      <td>75</td>\n",
              "      <td>653</td>\n",
              "    </tr>\n",
              "    <tr>\n",
              "      <th>1</th>\n",
              "      <td>75</td>\n",
              "      <td>1527</td>\n",
              "    </tr>\n",
              "    <tr>\n",
              "      <th>2</th>\n",
              "      <td>75</td>\n",
              "      <td>3258</td>\n",
              "    </tr>\n",
              "    <tr>\n",
              "      <th>3</th>\n",
              "      <td>75</td>\n",
              "      <td>7007</td>\n",
              "    </tr>\n",
              "    <tr>\n",
              "      <th>4</th>\n",
              "      <td>78</td>\n",
              "      <td>82</td>\n",
              "    </tr>\n",
              "  </tbody>\n",
              "</table>\n",
              "</div>"
            ],
            "text/plain": [
              "  userID movieID\n",
              "0     75     653\n",
              "1     75    1527\n",
              "2     75    3258\n",
              "3     75    7007\n",
              "4     78      82"
            ]
          },
          "metadata": {
            "tags": []
          },
          "execution_count": 116
        }
      ]
    },
    {
      "cell_type": "markdown",
      "metadata": {
        "id": "8P2_XVXcpWP_"
      },
      "source": [
        "**Collaborative Filtering (CF)**<br>Collaborative filtering produces recommendations based on the knowledge of users’ preference to items. Users give ratings to catalog items (implicitly or explicitly). Customers who had similar tastes in the past, will have similar\n",
        "tastes in the future. CF can be divided into Memory-Based Collaborative Filtering and Model-Based Collaborative Filtering.\n",
        "\n",
        "**Model-Based Collaborative Filtering**<br>\n",
        "Model-based CF methods are based on matrix factorization (MF). MF methods are used as an unsupervised learning method for latent variable decomposition and dimensionality reduction. Matrix factorization restructures the user-item matrix into a low-rank matrix. This can be represented by the multiplication of two low-rank matrices, where the rows contain a vector of latent variables. This matrix is required to approximate the original matrix, as closely as possible, by multiplying the low-rank matrices together. That way, we can predict the missing entries in the original matrix.\n",
        "\n",
        "\n"
      ]
    },
    {
      "cell_type": "markdown",
      "metadata": {
        "id": "5LJtatRerUiy"
      },
      "source": [
        "**Singular Value Decomposition**<br>\n",
        "Collaborative Filtering can be formulated by approximating a matrix X by using Singular Value Decomposition (SVD). SVD can be expressed as:\n",
        "\n",
        "![image.png](data:image/png;base64,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)\n",
        "\n",
        "Given m×n matrix X:\n",
        "\n",
        "\n",
        "1.   U is (m×r) orthogonal matrix\n",
        "2.   S is (r×r) diagonal matrix with non-negative real numbers on the diagonal\n",
        "3.   VT is (r×n) orthogonal matrix <br>\n",
        "where U represents feature vectors of the users, V represents feature vectors of the items and the elements on the diagonal of S are known as singular values."
      ]
    },
    {
      "cell_type": "markdown",
      "metadata": {
        "id": "eNtbZQ0M1QqX"
      },
      "source": [
        "**Root-Mean-Square Error (RMSE)**<br>\n",
        "The measure of the differences between values (sample or population values) predicted by a model or an estimator and the values observed. The RMSE represents the square root of the second sample moment of the differences between predicted values and observed values or the quadratic mean of these differences. <br>\n",
        "![image.png](data:image/png;base64,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)"
      ]
    },
    {
      "cell_type": "code",
      "metadata": {
        "id": "f0X_wtm41pPm"
      },
      "source": [
        "from math import sqrt\n",
        "from sklearn.metrics import mean_squared_error\n",
        "def rmse(prediction, ground_truth):\n",
        "    prediction = prediction[ground_truth.nonzero()].flatten()\n",
        "    ground_truth = ground_truth[ground_truth.nonzero()].flatten()\n",
        "    return sqrt(mean_squared_error(prediction, ground_truth))"
      ],
      "execution_count": null,
      "outputs": []
    },
    {
      "cell_type": "markdown",
      "metadata": {
        "id": "vYOCu7ohxvAY"
      },
      "source": [
        "### Data Exploration"
      ]
    },
    {
      "cell_type": "code",
      "metadata": {
        "id": "3UB8ld6yoXKw",
        "colab": {
          "base_uri": "https://localhost:8080/",
          "height": 333
        },
        "outputId": "b97b67f3-6c94-410f-8fad-e544e12135dc"
      },
      "source": [
        "#Distribution of users rating\n",
        "sns.distplot(trainData[\"rating\"]);"
      ],
      "execution_count": null,
      "outputs": [
        {
          "output_type": "stream",
          "text": [
            "/usr/local/lib/python3.6/dist-packages/seaborn/distributions.py:2551: FutureWarning: `distplot` is a deprecated function and will be removed in a future version. Please adapt your code to use either `displot` (a figure-level function with similar flexibility) or `histplot` (an axes-level function for histograms).\n",
            "  warnings.warn(msg, FutureWarning)\n"
          ],
          "name": "stderr"
        },
        {
          "output_type": "display_data",
          "data": {
            "image/png": "[encoded data removed]",
            "text/plain": [
              "<Figure size 432x288 with 1 Axes>"
            ]
          },
          "metadata": {
            "tags": [],
            "needs_background": "light"
          }
        }
      ]
    },
    {
      "cell_type": "code",
      "metadata": {
        "id": "-WoAJ6-6x-4I",
        "colab": {
          "base_uri": "https://localhost:8080/"
        },
        "outputId": "464cf2a9-1c10-409b-a0f8-6ee00b3b83a2"
      },
      "source": [
        "# avarge rating \n",
        "avarge_rating = trainData['rating'].mean()\n",
        "print(\"average rating\",avarge_rating)"
      ],
      "execution_count": null,
      "outputs": [
        {
          "output_type": "stream",
          "text": [
            "average rating 3.4386223135769263\n"
          ],
          "name": "stdout"
        }
      ]
    },
    {
      "cell_type": "markdown",
      "metadata": {
        "id": "JbLFPsKUyn8e"
      },
      "source": [
        "### Matrix Factorization (MF) using SVD\n",
        "\n",
        "For Model based RS approach, initially I implemented the matrix factorization using SVD process. I created a user_item rating matrix. Here Pivot table function is used as we want one to one maping between movies, user and their rating. So by default pivot_table command takes average if we have multiple values of one combination."
      ]
    },
    {
      "cell_type": "code",
      "metadata": {
        "id": "RIgzNY6RyfHw"
      },
      "source": [
        "utility_matrix = trainData.pivot_table(values='rating', index='userID', columns='movieID', fill_value=0) # rating matrix\n",
        "R = utility_matrix.values\n",
        "user_ratings_mean = np.mean(R, axis = 1) # calculated the mean rating for each user\n",
        "Ratings_demeaned = R - user_ratings_mean.reshape(-1, 1) # normalized the ratings based on the users by subtracting the mean\n",
        "user_ratings_mean_df = pd.DataFrame(user_ratings_mean,index=utility_matrix.index,columns=['mean']) #dataframe storing the mean rating w.r.t to the user"
      ],
      "execution_count": null,
      "outputs": []
    },
    {
      "cell_type": "code",
      "metadata": {
        "id": "-hSoO4Md7PxN",
        "colab": {
          "base_uri": "https://localhost:8080/",
          "height": 274
        },
        "outputId": "f0fa1aff-e97c-485f-ac90-a0346e51baf9"
      },
      "source": [
        "#user_movie rating matrix\n",
        "utility_matrix.head(5)"
      ],
      "execution_count": null,
      "outputs": [
        {
          "output_type": "execute_result",
          "data": {
            "text/html": [
              "<div>\n",
              "<style scoped>\n",
              "    .dataframe tbody tr th:only-of-type {\n",
              "        vertical-align: middle;\n",
              "    }\n",
              "\n",
              "    .dataframe tbody tr th {\n",
              "        vertical-align: top;\n",
              "    }\n",
              "\n",
              "    .dataframe thead th {\n",
              "        text-align: right;\n",
              "    }\n",
              "</style>\n",
              "<table border=\"1\" class=\"dataframe\">\n",
              "  <thead>\n",
              "    <tr style=\"text-align: right;\">\n",
              "      <th>movieID</th>\n",
              "      <th>1</th>\n",
              "      <th>10</th>\n",
              "      <th>100</th>\n",
              "      <th>1000</th>\n",
              "      <th>1002</th>\n",
              "      <th>1003</th>\n",
              "      <th>1004</th>\n",
              "      <th>1005</th>\n",
              "      <th>1006</th>\n",
              "      <th>1007</th>\n",
              "      <th>1008</th>\n",
              "      <th>1009</th>\n",
              "      <th>101</th>\n",
              "      <th>1010</th>\n",
              "      <th>1011</th>\n",
              "      <th>1012</th>\n",
              "      <th>1013</th>\n",
              "      <th>1014</th>\n",
              "      <th>1015</th>\n",
              "      <th>1016</th>\n",
              "      <th>1017</th>\n",
              "      <th>1018</th>\n",
              "      <th>1019</th>\n",
              "      <th>102</th>\n",
              "      <th>1020</th>\n",
              "      <th>1021</th>\n",
              "      <th>1022</th>\n",
              "      <th>1023</th>\n",
              "      <th>1024</th>\n",
              "      <th>1025</th>\n",
              "      <th>1026</th>\n",
              "      <th>1027</th>\n",
              "      <th>1028</th>\n",
              "      <th>1029</th>\n",
              "      <th>103</th>\n",
              "      <th>1030</th>\n",
              "      <th>1031</th>\n",
              "      <th>1032</th>\n",
              "      <th>1033</th>\n",
              "      <th>1034</th>\n",
              "      <th>...</th>\n",
              "      <th>956</th>\n",
              "      <th>957</th>\n",
              "      <th>958</th>\n",
              "      <th>959</th>\n",
              "      <th>96</th>\n",
              "      <th>960</th>\n",
              "      <th>961</th>\n",
              "      <th>963</th>\n",
              "      <th>964</th>\n",
              "      <th>965</th>\n",
              "      <th>966</th>\n",
              "      <th>967</th>\n",
              "      <th>968</th>\n",
              "      <th>969</th>\n",
              "      <th>97</th>\n",
              "      <th>970</th>\n",
              "      <th>971</th>\n",
              "      <th>972</th>\n",
              "      <th>973</th>\n",
              "      <th>974</th>\n",
              "      <th>976</th>\n",
              "      <th>98</th>\n",
              "      <th>980</th>\n",
              "      <th>981</th>\n",
              "      <th>982</th>\n",
              "      <th>984</th>\n",
              "      <th>985</th>\n",
              "      <th>986</th>\n",
              "      <th>987</th>\n",
              "      <th>988</th>\n",
              "      <th>99</th>\n",
              "      <th>990</th>\n",
              "      <th>991</th>\n",
              "      <th>992</th>\n",
              "      <th>993</th>\n",
              "      <th>994</th>\n",
              "      <th>996</th>\n",
              "      <th>997</th>\n",
              "      <th>998</th>\n",
              "      <th>999</th>\n",
              "    </tr>\n",
              "    <tr>\n",
              "      <th>userID</th>\n",
              "      <th></th>\n",
              "      <th></th>\n",
              "      <th></th>\n",
              "      <th></th>\n",
              "      <th></th>\n",
              "      <th></th>\n",
              "      <th></th>\n",
              "      <th></th>\n",
              "      <th></th>\n",
              "      <th></th>\n",
              "      <th></th>\n",
              "      <th></th>\n",
              "      <th></th>\n",
              "      <th></th>\n",
              "      <th></th>\n",
              "      <th></th>\n",
              "      <th></th>\n",
              "      <th></th>\n",
              "      <th></th>\n",
              "      <th></th>\n",
              "      <th></th>\n",
              "      <th></th>\n",
              "      <th></th>\n",
              "      <th></th>\n",
              "      <th></th>\n",
              "      <th></th>\n",
              "      <th></th>\n",
              "      <th></th>\n",
              "      <th></th>\n",
              "      <th></th>\n",
              "      <th></th>\n",
              "      <th></th>\n",
              "      <th></th>\n",
              "      <th></th>\n",
              "      <th></th>\n",
              "      <th></th>\n",
              "      <th></th>\n",
              "      <th></th>\n",
              "      <th></th>\n",
              "      <th></th>\n",
              "      <th></th>\n",
              "      <th></th>\n",
              "      <th></th>\n",
              "      <th></th>\n",
              "      <th></th>\n",
              "      <th></th>\n",
              "      <th></th>\n",
              "      <th></th>\n",
              "      <th></th>\n",
              "      <th></th>\n",
              "      <th></th>\n",
              "      <th></th>\n",
              "      <th></th>\n",
              "      <th></th>\n",
              "      <th></th>\n",
              "      <th></th>\n",
              "      <th></th>\n",
              "      <th></th>\n",
              "      <th></th>\n",
              "      <th></th>\n",
              "      <th></th>\n",
              "      <th></th>\n",
              "      <th></th>\n",
              "      <th></th>\n",
              "      <th></th>\n",
              "      <th></th>\n",
              "      <th></th>\n",
              "      <th></th>\n",
              "      <th></th>\n",
              "      <th></th>\n",
              "      <th></th>\n",
              "      <th></th>\n",
              "      <th></th>\n",
              "      <th></th>\n",
              "      <th></th>\n",
              "      <th></th>\n",
              "      <th></th>\n",
              "      <th></th>\n",
              "      <th></th>\n",
              "      <th></th>\n",
              "      <th></th>\n",
              "    </tr>\n",
              "  </thead>\n",
              "  <tbody>\n",
              "    <tr>\n",
              "      <th>10025</th>\n",
              "      <td>0.0</td>\n",
              "      <td>0.0</td>\n",
              "      <td>0.0</td>\n",
              "      <td>0.0</td>\n",
              "      <td>0</td>\n",
              "      <td>0.0</td>\n",
              "      <td>0.0</td>\n",
              "      <td>0.0</td>\n",
              "      <td>0.0</td>\n",
              "      <td>0.0</td>\n",
              "      <td>0.0</td>\n",
              "      <td>0.0</td>\n",
              "      <td>0.0</td>\n",
              "      <td>0.0</td>\n",
              "      <td>0.0</td>\n",
              "      <td>0.0</td>\n",
              "      <td>0.0</td>\n",
              "      <td>0.0</td>\n",
              "      <td>0.0</td>\n",
              "      <td>0.0</td>\n",
              "      <td>0.0</td>\n",
              "      <td>0.0</td>\n",
              "      <td>0.0</td>\n",
              "      <td>0.0</td>\n",
              "      <td>0.0</td>\n",
              "      <td>0.0</td>\n",
              "      <td>0.0</td>\n",
              "      <td>0.0</td>\n",
              "      <td>0.0</td>\n",
              "      <td>0.0</td>\n",
              "      <td>0.0</td>\n",
              "      <td>0.0</td>\n",
              "      <td>0.0</td>\n",
              "      <td>0.0</td>\n",
              "      <td>0.0</td>\n",
              "      <td>0.0</td>\n",
              "      <td>0.0</td>\n",
              "      <td>0.0</td>\n",
              "      <td>0.0</td>\n",
              "      <td>0.0</td>\n",
              "      <td>...</td>\n",
              "      <td>0.0</td>\n",
              "      <td>0.0</td>\n",
              "      <td>0.0</td>\n",
              "      <td>0.0</td>\n",
              "      <td>0.0</td>\n",
              "      <td>0.0</td>\n",
              "      <td>0</td>\n",
              "      <td>0.0</td>\n",
              "      <td>0.0</td>\n",
              "      <td>2.5</td>\n",
              "      <td>0.0</td>\n",
              "      <td>0</td>\n",
              "      <td>0.0</td>\n",
              "      <td>0.0</td>\n",
              "      <td>0.0</td>\n",
              "      <td>0.0</td>\n",
              "      <td>0.0</td>\n",
              "      <td>0.0</td>\n",
              "      <td>0.0</td>\n",
              "      <td>0.0</td>\n",
              "      <td>0.0</td>\n",
              "      <td>0.0</td>\n",
              "      <td>0.0</td>\n",
              "      <td>0</td>\n",
              "      <td>0.0</td>\n",
              "      <td>0.0</td>\n",
              "      <td>0</td>\n",
              "      <td>0.0</td>\n",
              "      <td>0.0</td>\n",
              "      <td>0</td>\n",
              "      <td>0</td>\n",
              "      <td>0.0</td>\n",
              "      <td>0.0</td>\n",
              "      <td>0</td>\n",
              "      <td>0.0</td>\n",
              "      <td>0.0</td>\n",
              "      <td>0.0</td>\n",
              "      <td>0.0</td>\n",
              "      <td>0.0</td>\n",
              "      <td>0.0</td>\n",
              "    </tr>\n",
              "    <tr>\n",
              "      <th>10058</th>\n",
              "      <td>0.0</td>\n",
              "      <td>0.0</td>\n",
              "      <td>0.0</td>\n",
              "      <td>0.0</td>\n",
              "      <td>0</td>\n",
              "      <td>0.0</td>\n",
              "      <td>0.0</td>\n",
              "      <td>0.0</td>\n",
              "      <td>0.0</td>\n",
              "      <td>0.0</td>\n",
              "      <td>0.0</td>\n",
              "      <td>0.0</td>\n",
              "      <td>0.0</td>\n",
              "      <td>0.0</td>\n",
              "      <td>0.0</td>\n",
              "      <td>0.0</td>\n",
              "      <td>0.0</td>\n",
              "      <td>0.0</td>\n",
              "      <td>0.0</td>\n",
              "      <td>0.0</td>\n",
              "      <td>0.0</td>\n",
              "      <td>0.0</td>\n",
              "      <td>0.0</td>\n",
              "      <td>0.0</td>\n",
              "      <td>0.0</td>\n",
              "      <td>0.0</td>\n",
              "      <td>0.0</td>\n",
              "      <td>0.0</td>\n",
              "      <td>0.0</td>\n",
              "      <td>0.0</td>\n",
              "      <td>0.0</td>\n",
              "      <td>0.0</td>\n",
              "      <td>0.0</td>\n",
              "      <td>0.0</td>\n",
              "      <td>0.0</td>\n",
              "      <td>0.0</td>\n",
              "      <td>0.0</td>\n",
              "      <td>0.0</td>\n",
              "      <td>0.0</td>\n",
              "      <td>0.0</td>\n",
              "      <td>...</td>\n",
              "      <td>0.0</td>\n",
              "      <td>0.0</td>\n",
              "      <td>0.0</td>\n",
              "      <td>0.0</td>\n",
              "      <td>0.0</td>\n",
              "      <td>0.0</td>\n",
              "      <td>0</td>\n",
              "      <td>0.0</td>\n",
              "      <td>0.0</td>\n",
              "      <td>0.0</td>\n",
              "      <td>0.0</td>\n",
              "      <td>0</td>\n",
              "      <td>0.0</td>\n",
              "      <td>0.0</td>\n",
              "      <td>0.0</td>\n",
              "      <td>0.0</td>\n",
              "      <td>0.0</td>\n",
              "      <td>0.0</td>\n",
              "      <td>0.0</td>\n",
              "      <td>0.0</td>\n",
              "      <td>0.0</td>\n",
              "      <td>0.0</td>\n",
              "      <td>0.0</td>\n",
              "      <td>0</td>\n",
              "      <td>0.0</td>\n",
              "      <td>0.0</td>\n",
              "      <td>0</td>\n",
              "      <td>0.0</td>\n",
              "      <td>0.0</td>\n",
              "      <td>0</td>\n",
              "      <td>0</td>\n",
              "      <td>0.0</td>\n",
              "      <td>0.0</td>\n",
              "      <td>0</td>\n",
              "      <td>0.0</td>\n",
              "      <td>0.0</td>\n",
              "      <td>0.0</td>\n",
              "      <td>0.0</td>\n",
              "      <td>0.0</td>\n",
              "      <td>0.0</td>\n",
              "    </tr>\n",
              "    <tr>\n",
              "      <th>10064</th>\n",
              "      <td>0.0</td>\n",
              "      <td>0.0</td>\n",
              "      <td>0.0</td>\n",
              "      <td>0.0</td>\n",
              "      <td>0</td>\n",
              "      <td>0.0</td>\n",
              "      <td>0.0</td>\n",
              "      <td>0.0</td>\n",
              "      <td>0.0</td>\n",
              "      <td>0.0</td>\n",
              "      <td>0.0</td>\n",
              "      <td>0.0</td>\n",
              "      <td>0.0</td>\n",
              "      <td>0.0</td>\n",
              "      <td>0.0</td>\n",
              "      <td>0.0</td>\n",
              "      <td>0.0</td>\n",
              "      <td>0.0</td>\n",
              "      <td>0.0</td>\n",
              "      <td>0.0</td>\n",
              "      <td>0.0</td>\n",
              "      <td>0.0</td>\n",
              "      <td>0.0</td>\n",
              "      <td>0.0</td>\n",
              "      <td>0.0</td>\n",
              "      <td>0.0</td>\n",
              "      <td>0.0</td>\n",
              "      <td>0.0</td>\n",
              "      <td>0.0</td>\n",
              "      <td>0.0</td>\n",
              "      <td>0.0</td>\n",
              "      <td>0.0</td>\n",
              "      <td>0.0</td>\n",
              "      <td>0.0</td>\n",
              "      <td>0.0</td>\n",
              "      <td>0.0</td>\n",
              "      <td>0.0</td>\n",
              "      <td>0.0</td>\n",
              "      <td>0.0</td>\n",
              "      <td>0.0</td>\n",
              "      <td>...</td>\n",
              "      <td>0.0</td>\n",
              "      <td>0.0</td>\n",
              "      <td>0.0</td>\n",
              "      <td>0.0</td>\n",
              "      <td>0.0</td>\n",
              "      <td>0.0</td>\n",
              "      <td>0</td>\n",
              "      <td>0.0</td>\n",
              "      <td>0.0</td>\n",
              "      <td>0.0</td>\n",
              "      <td>0.0</td>\n",
              "      <td>0</td>\n",
              "      <td>0.0</td>\n",
              "      <td>0.0</td>\n",
              "      <td>0.0</td>\n",
              "      <td>0.0</td>\n",
              "      <td>0.0</td>\n",
              "      <td>0.0</td>\n",
              "      <td>0.0</td>\n",
              "      <td>0.0</td>\n",
              "      <td>0.0</td>\n",
              "      <td>0.0</td>\n",
              "      <td>0.0</td>\n",
              "      <td>0</td>\n",
              "      <td>0.0</td>\n",
              "      <td>0.0</td>\n",
              "      <td>0</td>\n",
              "      <td>0.0</td>\n",
              "      <td>0.0</td>\n",
              "      <td>0</td>\n",
              "      <td>0</td>\n",
              "      <td>0.0</td>\n",
              "      <td>0.0</td>\n",
              "      <td>0</td>\n",
              "      <td>0.0</td>\n",
              "      <td>0.0</td>\n",
              "      <td>0.0</td>\n",
              "      <td>0.0</td>\n",
              "      <td>0.0</td>\n",
              "      <td>0.0</td>\n",
              "    </tr>\n",
              "    <tr>\n",
              "      <th>10084</th>\n",
              "      <td>0.0</td>\n",
              "      <td>0.0</td>\n",
              "      <td>0.0</td>\n",
              "      <td>0.0</td>\n",
              "      <td>0</td>\n",
              "      <td>0.0</td>\n",
              "      <td>0.0</td>\n",
              "      <td>0.0</td>\n",
              "      <td>0.0</td>\n",
              "      <td>0.0</td>\n",
              "      <td>0.0</td>\n",
              "      <td>0.0</td>\n",
              "      <td>0.0</td>\n",
              "      <td>0.0</td>\n",
              "      <td>0.0</td>\n",
              "      <td>0.0</td>\n",
              "      <td>0.0</td>\n",
              "      <td>0.0</td>\n",
              "      <td>0.0</td>\n",
              "      <td>0.0</td>\n",
              "      <td>0.0</td>\n",
              "      <td>0.0</td>\n",
              "      <td>0.0</td>\n",
              "      <td>0.0</td>\n",
              "      <td>0.0</td>\n",
              "      <td>0.0</td>\n",
              "      <td>0.0</td>\n",
              "      <td>0.0</td>\n",
              "      <td>0.0</td>\n",
              "      <td>0.0</td>\n",
              "      <td>0.0</td>\n",
              "      <td>0.0</td>\n",
              "      <td>0.0</td>\n",
              "      <td>0.0</td>\n",
              "      <td>0.0</td>\n",
              "      <td>0.0</td>\n",
              "      <td>0.0</td>\n",
              "      <td>0.0</td>\n",
              "      <td>0.0</td>\n",
              "      <td>0.0</td>\n",
              "      <td>...</td>\n",
              "      <td>0.0</td>\n",
              "      <td>0.0</td>\n",
              "      <td>0.0</td>\n",
              "      <td>0.0</td>\n",
              "      <td>0.0</td>\n",
              "      <td>0.0</td>\n",
              "      <td>0</td>\n",
              "      <td>0.0</td>\n",
              "      <td>0.0</td>\n",
              "      <td>0.0</td>\n",
              "      <td>0.0</td>\n",
              "      <td>0</td>\n",
              "      <td>0.0</td>\n",
              "      <td>0.0</td>\n",
              "      <td>0.0</td>\n",
              "      <td>0.0</td>\n",
              "      <td>0.0</td>\n",
              "      <td>0.0</td>\n",
              "      <td>0.0</td>\n",
              "      <td>0.0</td>\n",
              "      <td>0.0</td>\n",
              "      <td>0.0</td>\n",
              "      <td>0.0</td>\n",
              "      <td>0</td>\n",
              "      <td>0.0</td>\n",
              "      <td>0.0</td>\n",
              "      <td>0</td>\n",
              "      <td>0.0</td>\n",
              "      <td>0.0</td>\n",
              "      <td>0</td>\n",
              "      <td>0</td>\n",
              "      <td>0.0</td>\n",
              "      <td>0.0</td>\n",
              "      <td>0</td>\n",
              "      <td>0.0</td>\n",
              "      <td>0.0</td>\n",
              "      <td>0.0</td>\n",
              "      <td>0.0</td>\n",
              "      <td>0.0</td>\n",
              "      <td>0.0</td>\n",
              "    </tr>\n",
              "    <tr>\n",
              "      <th>10094</th>\n",
              "      <td>2.0</td>\n",
              "      <td>0.0</td>\n",
              "      <td>0.0</td>\n",
              "      <td>0.0</td>\n",
              "      <td>0</td>\n",
              "      <td>0.0</td>\n",
              "      <td>0.0</td>\n",
              "      <td>0.0</td>\n",
              "      <td>0.0</td>\n",
              "      <td>0.0</td>\n",
              "      <td>0.0</td>\n",
              "      <td>0.0</td>\n",
              "      <td>0.0</td>\n",
              "      <td>0.0</td>\n",
              "      <td>0.0</td>\n",
              "      <td>0.0</td>\n",
              "      <td>0.0</td>\n",
              "      <td>0.0</td>\n",
              "      <td>0.0</td>\n",
              "      <td>0.0</td>\n",
              "      <td>0.0</td>\n",
              "      <td>0.0</td>\n",
              "      <td>0.0</td>\n",
              "      <td>0.0</td>\n",
              "      <td>0.0</td>\n",
              "      <td>0.0</td>\n",
              "      <td>0.0</td>\n",
              "      <td>0.0</td>\n",
              "      <td>0.0</td>\n",
              "      <td>0.0</td>\n",
              "      <td>0.0</td>\n",
              "      <td>0.0</td>\n",
              "      <td>0.0</td>\n",
              "      <td>0.0</td>\n",
              "      <td>0.0</td>\n",
              "      <td>0.0</td>\n",
              "      <td>0.0</td>\n",
              "      <td>0.0</td>\n",
              "      <td>0.0</td>\n",
              "      <td>0.0</td>\n",
              "      <td>...</td>\n",
              "      <td>0.0</td>\n",
              "      <td>0.0</td>\n",
              "      <td>0.0</td>\n",
              "      <td>0.0</td>\n",
              "      <td>0.0</td>\n",
              "      <td>0.0</td>\n",
              "      <td>0</td>\n",
              "      <td>0.0</td>\n",
              "      <td>0.0</td>\n",
              "      <td>0.0</td>\n",
              "      <td>0.0</td>\n",
              "      <td>0</td>\n",
              "      <td>0.0</td>\n",
              "      <td>0.0</td>\n",
              "      <td>0.0</td>\n",
              "      <td>0.0</td>\n",
              "      <td>0.0</td>\n",
              "      <td>0.0</td>\n",
              "      <td>0.0</td>\n",
              "      <td>0.0</td>\n",
              "      <td>0.0</td>\n",
              "      <td>0.0</td>\n",
              "      <td>0.0</td>\n",
              "      <td>0</td>\n",
              "      <td>0.0</td>\n",
              "      <td>0.0</td>\n",
              "      <td>0</td>\n",
              "      <td>0.0</td>\n",
              "      <td>0.0</td>\n",
              "      <td>0</td>\n",
              "      <td>0</td>\n",
              "      <td>0.0</td>\n",
              "      <td>0.0</td>\n",
              "      <td>0</td>\n",
              "      <td>0.0</td>\n",
              "      <td>0.0</td>\n",
              "      <td>0.0</td>\n",
              "      <td>0.0</td>\n",
              "      <td>0.0</td>\n",
              "      <td>0.0</td>\n",
              "    </tr>\n",
              "  </tbody>\n",
              "</table>\n",
              "<p>5 rows × 9936 columns</p>\n",
              "</div>"
            ],
            "text/plain": [
              "movieID    1   10  100  1000  1002  1003  ...  993  994  996  997  998  999\n",
              "userID                                    ...                              \n",
              "10025    0.0  0.0  0.0   0.0     0   0.0  ...  0.0  0.0  0.0  0.0  0.0  0.0\n",
              "10058    0.0  0.0  0.0   0.0     0   0.0  ...  0.0  0.0  0.0  0.0  0.0  0.0\n",
              "10064    0.0  0.0  0.0   0.0     0   0.0  ...  0.0  0.0  0.0  0.0  0.0  0.0\n",
              "10084    0.0  0.0  0.0   0.0     0   0.0  ...  0.0  0.0  0.0  0.0  0.0  0.0\n",
              "10094    2.0  0.0  0.0   0.0     0   0.0  ...  0.0  0.0  0.0  0.0  0.0  0.0\n",
              "\n",
              "[5 rows x 9936 columns]"
            ]
          },
          "metadata": {
            "tags": []
          },
          "execution_count": 121
        }
      ]
    },
    {
      "cell_type": "code",
      "metadata": {
        "id": "fi7M05bq0Ol3",
        "colab": {
          "base_uri": "https://localhost:8080/"
        },
        "outputId": "695c9234-572a-48ec-f2b5-31623f04bf4c"
      },
      "source": [
        "n_users = dfTrain.userID.unique().shape[0]\n",
        "n_movies = dfTrain.movieID.unique().shape[0]\n",
        "sparsity = round(1.0 - len(dfTrain) / float(n_users * n_movies), 3)\n",
        "print('The sparsity level of trainnig dataset is '+ str(sparsity * 100) + '%')"
      ],
      "execution_count": null,
      "outputs": [
        {
          "output_type": "stream",
          "text": [
            "The sparsity level of trainnig dataset is 96.89999999999999%\n"
          ],
          "name": "stdout"
        }
      ]
    },
    {
      "cell_type": "markdown",
      "metadata": {
        "id": "aWunZW_d0xmC"
      },
      "source": [
        "I varied the number of features for decomposition to identify the optimal value. I used the training dataset and calculated RMSE for each round of prediction"
      ]
    },
    {
      "cell_type": "code",
      "metadata": {
        "id": "IY-rOu8z0ltq"
      },
      "source": [
        "rmse_values = []\n",
        "K=[]\n",
        "for i in range(20,60):\n",
        "  U, sigma, Vt = svds(Ratings_demeaned, k=i) # deomposed rating matrix into user and movie features and diagonal vector\n",
        "  sigma = np.diag(sigma) # singular values\n",
        "  predicted_ratings = np.dot(np.dot(U, sigma), Vt) + user_ratings_mean.reshape(-1, 1) # reconstructing user-movie rating matrix to get the rating for unrated movies.\n",
        "  preds = pd.DataFrame(predicted_ratings, columns = utility_matrix.columns, index=utility_matrix.index)\n",
        "  K.append(i)\n",
        "  rmse_values.append(rmse(utility_matrix.values,preds.values))"
      ],
      "execution_count": null,
      "outputs": []
    },
    {
      "cell_type": "code",
      "metadata": {
        "id": "PBdP43HD2VM4",
        "colab": {
          "base_uri": "https://localhost:8080/",
          "height": 295
        },
        "outputId": "3342b0c0-b268-4127-ee6d-5714b7f3975a"
      },
      "source": [
        "plt.plot(K, rmse_values)\n",
        "plt.xlabel(\"no. of latent leatures\")\n",
        "plt.ylabel(\"RMSE\")\n",
        "plt.title(\"Fig 1. no. of latent features vs RMSE\")\n",
        "plt.show()"
      ],
      "execution_count": null,
      "outputs": [
        {
          "output_type": "display_data",
          "data": {
            "image/png": "[encoded data removed]",
            "text/plain": [
              "<Figure size 432x288 with 1 Axes>"
            ]
          },
          "metadata": {
            "tags": [],
            "needs_background": "light"
          }
        }
      ]
    },
    {
      "cell_type": "markdown",
      "metadata": {
        "id": "kAUlOFkh4uVx"
      },
      "source": [
        "From fig 1, it can be observed that with the increase of no. of feature the RMSE decreased. But no elbow point is visible. I decided to take 50 features for decompositon and continue rest of the assignment. I will normalize the user_movie rating matrix w.r.t to user_based_rating, then decompose the matrix into user matrix and movie matrix, each with 50 features. Then reconstruct the rating matrix by the dot product of user, movie feature matrices and add the mean for each user rating. This way, we can get the rating for unrated movies for each user.  "
      ]
    },
    {
      "cell_type": "code",
      "metadata": {
        "id": "ThBFaTJM4nRa"
      },
      "source": [
        "  U, sigma, Vt = svds(Ratings_demeaned, k=50) # deomposed rating matrix into user and movie features and diagonal vector\n",
        "  sigma = np.diag(sigma) # singular values\n",
        "  predicted_ratings = np.dot(np.dot(U, sigma), Vt) + user_ratings_mean.reshape(-1, 1) # reconstructing user-movie rating matrix to get the rating for unrated movies.\n",
        "  preds = pd.DataFrame(predicted_ratings, columns = utility_matrix.columns, index=utility_matrix.index)"
      ],
      "execution_count": null,
      "outputs": []
    },
    {
      "cell_type": "code",
      "metadata": {
        "id": "xaEaSASn6_C7",
        "colab": {
          "base_uri": "https://localhost:8080/",
          "height": 274
        },
        "outputId": "2779a823-77d8-4a97-b0dd-466a05c68950"
      },
      "source": [
        "#Predicted rating matrix\n",
        "preds.head(5)"
      ],
      "execution_count": null,
      "outputs": [
        {
          "output_type": "execute_result",
          "data": {
            "text/html": [
              "<div>\n",
              "<style scoped>\n",
              "    .dataframe tbody tr th:only-of-type {\n",
              "        vertical-align: middle;\n",
              "    }\n",
              "\n",
              "    .dataframe tbody tr th {\n",
              "        vertical-align: top;\n",
              "    }\n",
              "\n",
              "    .dataframe thead th {\n",
              "        text-align: right;\n",
              "    }\n",
              "</style>\n",
              "<table border=\"1\" class=\"dataframe\">\n",
              "  <thead>\n",
              "    <tr style=\"text-align: right;\">\n",
              "      <th>movieID</th>\n",
              "      <th>1</th>\n",
              "      <th>10</th>\n",
              "      <th>100</th>\n",
              "      <th>1000</th>\n",
              "      <th>1002</th>\n",
              "      <th>1003</th>\n",
              "      <th>1004</th>\n",
              "      <th>1005</th>\n",
              "      <th>1006</th>\n",
              "      <th>1007</th>\n",
              "      <th>1008</th>\n",
              "      <th>1009</th>\n",
              "      <th>101</th>\n",
              "      <th>1010</th>\n",
              "      <th>1011</th>\n",
              "      <th>1012</th>\n",
              "      <th>1013</th>\n",
              "      <th>1014</th>\n",
              "      <th>1015</th>\n",
              "      <th>1016</th>\n",
              "      <th>1017</th>\n",
              "      <th>1018</th>\n",
              "      <th>1019</th>\n",
              "      <th>102</th>\n",
              "      <th>1020</th>\n",
              "      <th>1021</th>\n",
              "      <th>1022</th>\n",
              "      <th>1023</th>\n",
              "      <th>1024</th>\n",
              "      <th>1025</th>\n",
              "      <th>1026</th>\n",
              "      <th>1027</th>\n",
              "      <th>1028</th>\n",
              "      <th>1029</th>\n",
              "      <th>103</th>\n",
              "      <th>1030</th>\n",
              "      <th>1031</th>\n",
              "      <th>1032</th>\n",
              "      <th>1033</th>\n",
              "      <th>1034</th>\n",
              "      <th>...</th>\n",
              "      <th>956</th>\n",
              "      <th>957</th>\n",
              "      <th>958</th>\n",
              "      <th>959</th>\n",
              "      <th>96</th>\n",
              "      <th>960</th>\n",
              "      <th>961</th>\n",
              "      <th>963</th>\n",
              "      <th>964</th>\n",
              "      <th>965</th>\n",
              "      <th>966</th>\n",
              "      <th>967</th>\n",
              "      <th>968</th>\n",
              "      <th>969</th>\n",
              "      <th>97</th>\n",
              "      <th>970</th>\n",
              "      <th>971</th>\n",
              "      <th>972</th>\n",
              "      <th>973</th>\n",
              "      <th>974</th>\n",
              "      <th>976</th>\n",
              "      <th>98</th>\n",
              "      <th>980</th>\n",
              "      <th>981</th>\n",
              "      <th>982</th>\n",
              "      <th>984</th>\n",
              "      <th>985</th>\n",
              "      <th>986</th>\n",
              "      <th>987</th>\n",
              "      <th>988</th>\n",
              "      <th>99</th>\n",
              "      <th>990</th>\n",
              "      <th>991</th>\n",
              "      <th>992</th>\n",
              "      <th>993</th>\n",
              "      <th>994</th>\n",
              "      <th>996</th>\n",
              "      <th>997</th>\n",
              "      <th>998</th>\n",
              "      <th>999</th>\n",
              "    </tr>\n",
              "    <tr>\n",
              "      <th>userID</th>\n",
              "      <th></th>\n",
              "      <th></th>\n",
              "      <th></th>\n",
              "      <th></th>\n",
              "      <th></th>\n",
              "      <th></th>\n",
              "      <th></th>\n",
              "      <th></th>\n",
              "      <th></th>\n",
              "      <th></th>\n",
              "      <th></th>\n",
              "      <th></th>\n",
              "      <th></th>\n",
              "      <th></th>\n",
              "      <th></th>\n",
              "      <th></th>\n",
              "      <th></th>\n",
              "      <th></th>\n",
              "      <th></th>\n",
              "      <th></th>\n",
              "      <th></th>\n",
              "      <th></th>\n",
              "      <th></th>\n",
              "      <th></th>\n",
              "      <th></th>\n",
              "      <th></th>\n",
              "      <th></th>\n",
              "      <th></th>\n",
              "      <th></th>\n",
              "      <th></th>\n",
              "      <th></th>\n",
              "      <th></th>\n",
              "      <th></th>\n",
              "      <th></th>\n",
              "      <th></th>\n",
              "      <th></th>\n",
              "      <th></th>\n",
              "      <th></th>\n",
              "      <th></th>\n",
              "      <th></th>\n",
              "      <th></th>\n",
              "      <th></th>\n",
              "      <th></th>\n",
              "      <th></th>\n",
              "      <th></th>\n",
              "      <th></th>\n",
              "      <th></th>\n",
              "      <th></th>\n",
              "      <th></th>\n",
              "      <th></th>\n",
              "      <th></th>\n",
              "      <th></th>\n",
              "      <th></th>\n",
              "      <th></th>\n",
              "      <th></th>\n",
              "      <th></th>\n",
              "      <th></th>\n",
              "      <th></th>\n",
              "      <th></th>\n",
              "      <th></th>\n",
              "      <th></th>\n",
              "      <th></th>\n",
              "      <th></th>\n",
              "      <th></th>\n",
              "      <th></th>\n",
              "      <th></th>\n",
              "      <th></th>\n",
              "      <th></th>\n",
              "      <th></th>\n",
              "      <th></th>\n",
              "      <th></th>\n",
              "      <th></th>\n",
              "      <th></th>\n",
              "      <th></th>\n",
              "      <th></th>\n",
              "      <th></th>\n",
              "      <th></th>\n",
              "      <th></th>\n",
              "      <th></th>\n",
              "      <th></th>\n",
              "      <th></th>\n",
              "    </tr>\n",
              "  </thead>\n",
              "  <tbody>\n",
              "    <tr>\n",
              "      <th>10025</th>\n",
              "      <td>0.955101</td>\n",
              "      <td>-0.182517</td>\n",
              "      <td>-0.000042</td>\n",
              "      <td>0.010267</td>\n",
              "      <td>-0.001901</td>\n",
              "      <td>0.000225</td>\n",
              "      <td>-0.056990</td>\n",
              "      <td>-0.035117</td>\n",
              "      <td>0.039569</td>\n",
              "      <td>0.033344</td>\n",
              "      <td>0.048588</td>\n",
              "      <td>0.110959</td>\n",
              "      <td>0.300591</td>\n",
              "      <td>-0.043706</td>\n",
              "      <td>-0.025842</td>\n",
              "      <td>0.128439</td>\n",
              "      <td>0.100203</td>\n",
              "      <td>0.039122</td>\n",
              "      <td>-0.139618</td>\n",
              "      <td>-0.028385</td>\n",
              "      <td>0.118917</td>\n",
              "      <td>0.048971</td>\n",
              "      <td>-0.290691</td>\n",
              "      <td>0.029537</td>\n",
              "      <td>0.057351</td>\n",
              "      <td>0.059564</td>\n",
              "      <td>0.302286</td>\n",
              "      <td>0.135146</td>\n",
              "      <td>0.048541</td>\n",
              "      <td>0.001360</td>\n",
              "      <td>0.005213</td>\n",
              "      <td>0.050981</td>\n",
              "      <td>0.432718</td>\n",
              "      <td>-0.020308</td>\n",
              "      <td>-0.027778</td>\n",
              "      <td>0.133004</td>\n",
              "      <td>0.106353</td>\n",
              "      <td>-0.079561</td>\n",
              "      <td>0.140255</td>\n",
              "      <td>-0.032037</td>\n",
              "      <td>...</td>\n",
              "      <td>0.033273</td>\n",
              "      <td>0.023131</td>\n",
              "      <td>-0.000100</td>\n",
              "      <td>0.020011</td>\n",
              "      <td>0.043406</td>\n",
              "      <td>0.033095</td>\n",
              "      <td>0.002170</td>\n",
              "      <td>0.032633</td>\n",
              "      <td>-0.059920</td>\n",
              "      <td>-0.039953</td>\n",
              "      <td>-0.003773</td>\n",
              "      <td>-0.005740</td>\n",
              "      <td>0.014774</td>\n",
              "      <td>0.233354</td>\n",
              "      <td>-0.130979</td>\n",
              "      <td>-0.023332</td>\n",
              "      <td>0.175662</td>\n",
              "      <td>0.007496</td>\n",
              "      <td>0.055562</td>\n",
              "      <td>-0.046304</td>\n",
              "      <td>0.033031</td>\n",
              "      <td>-0.022181</td>\n",
              "      <td>0.013759</td>\n",
              "      <td>0.004120</td>\n",
              "      <td>-0.010365</td>\n",
              "      <td>0.018869</td>\n",
              "      <td>0.010435</td>\n",
              "      <td>0.087278</td>\n",
              "      <td>-0.017631</td>\n",
              "      <td>0.002254</td>\n",
              "      <td>-0.056533</td>\n",
              "      <td>-0.021708</td>\n",
              "      <td>0.108583</td>\n",
              "      <td>-0.033462</td>\n",
              "      <td>-0.021741</td>\n",
              "      <td>0.465699</td>\n",
              "      <td>0.011982</td>\n",
              "      <td>-0.030106</td>\n",
              "      <td>-0.008694</td>\n",
              "      <td>-0.076709</td>\n",
              "    </tr>\n",
              "    <tr>\n",
              "      <th>10058</th>\n",
              "      <td>0.719140</td>\n",
              "      <td>0.107967</td>\n",
              "      <td>0.088333</td>\n",
              "      <td>-0.011378</td>\n",
              "      <td>-0.003432</td>\n",
              "      <td>0.071231</td>\n",
              "      <td>0.033282</td>\n",
              "      <td>0.000925</td>\n",
              "      <td>0.080406</td>\n",
              "      <td>0.013107</td>\n",
              "      <td>-0.009093</td>\n",
              "      <td>0.046600</td>\n",
              "      <td>0.017719</td>\n",
              "      <td>0.054099</td>\n",
              "      <td>-0.014998</td>\n",
              "      <td>-0.047254</td>\n",
              "      <td>-0.064782</td>\n",
              "      <td>-0.034326</td>\n",
              "      <td>0.064846</td>\n",
              "      <td>-0.011642</td>\n",
              "      <td>0.096990</td>\n",
              "      <td>-0.012573</td>\n",
              "      <td>0.089113</td>\n",
              "      <td>-0.004616</td>\n",
              "      <td>-0.134210</td>\n",
              "      <td>-0.001008</td>\n",
              "      <td>-0.021048</td>\n",
              "      <td>-0.020683</td>\n",
              "      <td>-0.047610</td>\n",
              "      <td>-0.078924</td>\n",
              "      <td>0.001651</td>\n",
              "      <td>0.044911</td>\n",
              "      <td>-0.250584</td>\n",
              "      <td>-0.041025</td>\n",
              "      <td>0.044122</td>\n",
              "      <td>-0.012043</td>\n",
              "      <td>-0.096667</td>\n",
              "      <td>-0.107550</td>\n",
              "      <td>0.055493</td>\n",
              "      <td>-0.001169</td>\n",
              "      <td>...</td>\n",
              "      <td>-0.001495</td>\n",
              "      <td>0.010842</td>\n",
              "      <td>0.002215</td>\n",
              "      <td>0.019224</td>\n",
              "      <td>-0.019290</td>\n",
              "      <td>-0.018106</td>\n",
              "      <td>0.022468</td>\n",
              "      <td>0.025125</td>\n",
              "      <td>0.023102</td>\n",
              "      <td>-0.030213</td>\n",
              "      <td>-0.011873</td>\n",
              "      <td>0.013098</td>\n",
              "      <td>0.020319</td>\n",
              "      <td>0.093572</td>\n",
              "      <td>0.139502</td>\n",
              "      <td>-0.058311</td>\n",
              "      <td>0.061598</td>\n",
              "      <td>0.001705</td>\n",
              "      <td>0.064321</td>\n",
              "      <td>0.025263</td>\n",
              "      <td>0.000549</td>\n",
              "      <td>-0.000050</td>\n",
              "      <td>-0.004864</td>\n",
              "      <td>-0.012338</td>\n",
              "      <td>-0.028271</td>\n",
              "      <td>0.017288</td>\n",
              "      <td>0.000585</td>\n",
              "      <td>0.033696</td>\n",
              "      <td>-0.003333</td>\n",
              "      <td>0.013334</td>\n",
              "      <td>-0.007331</td>\n",
              "      <td>0.004878</td>\n",
              "      <td>-0.001558</td>\n",
              "      <td>0.005981</td>\n",
              "      <td>0.005810</td>\n",
              "      <td>-0.107680</td>\n",
              "      <td>-0.001760</td>\n",
              "      <td>0.007001</td>\n",
              "      <td>0.030118</td>\n",
              "      <td>0.071531</td>\n",
              "    </tr>\n",
              "    <tr>\n",
              "      <th>10064</th>\n",
              "      <td>0.017136</td>\n",
              "      <td>-0.022044</td>\n",
              "      <td>0.034979</td>\n",
              "      <td>0.002245</td>\n",
              "      <td>0.008749</td>\n",
              "      <td>0.005307</td>\n",
              "      <td>0.018575</td>\n",
              "      <td>0.011017</td>\n",
              "      <td>0.012559</td>\n",
              "      <td>-0.020164</td>\n",
              "      <td>-0.008712</td>\n",
              "      <td>-0.015180</td>\n",
              "      <td>-0.009504</td>\n",
              "      <td>-0.022378</td>\n",
              "      <td>0.004575</td>\n",
              "      <td>-0.016325</td>\n",
              "      <td>-0.015519</td>\n",
              "      <td>0.016357</td>\n",
              "      <td>-0.011483</td>\n",
              "      <td>-0.021341</td>\n",
              "      <td>0.004106</td>\n",
              "      <td>0.007667</td>\n",
              "      <td>0.004034</td>\n",
              "      <td>0.007014</td>\n",
              "      <td>-0.028682</td>\n",
              "      <td>-0.037051</td>\n",
              "      <td>0.017412</td>\n",
              "      <td>0.019957</td>\n",
              "      <td>0.002209</td>\n",
              "      <td>0.027772</td>\n",
              "      <td>0.000717</td>\n",
              "      <td>0.076634</td>\n",
              "      <td>0.024122</td>\n",
              "      <td>0.029995</td>\n",
              "      <td>0.001204</td>\n",
              "      <td>0.014433</td>\n",
              "      <td>0.019458</td>\n",
              "      <td>0.023199</td>\n",
              "      <td>0.012735</td>\n",
              "      <td>0.005409</td>\n",
              "      <td>...</td>\n",
              "      <td>0.003985</td>\n",
              "      <td>-0.004303</td>\n",
              "      <td>0.003858</td>\n",
              "      <td>-0.012927</td>\n",
              "      <td>-0.001140</td>\n",
              "      <td>-0.006262</td>\n",
              "      <td>-0.009972</td>\n",
              "      <td>-0.008097</td>\n",
              "      <td>0.011097</td>\n",
              "      <td>0.054838</td>\n",
              "      <td>-0.001384</td>\n",
              "      <td>-0.009080</td>\n",
              "      <td>0.004477</td>\n",
              "      <td>0.003583</td>\n",
              "      <td>-0.010151</td>\n",
              "      <td>-0.004509</td>\n",
              "      <td>0.021329</td>\n",
              "      <td>0.003370</td>\n",
              "      <td>-0.019476</td>\n",
              "      <td>0.007509</td>\n",
              "      <td>-0.001143</td>\n",
              "      <td>0.004611</td>\n",
              "      <td>0.004748</td>\n",
              "      <td>-0.000174</td>\n",
              "      <td>0.001609</td>\n",
              "      <td>0.001946</td>\n",
              "      <td>-0.003980</td>\n",
              "      <td>0.045466</td>\n",
              "      <td>-0.019798</td>\n",
              "      <td>0.020506</td>\n",
              "      <td>0.010119</td>\n",
              "      <td>0.011577</td>\n",
              "      <td>0.035788</td>\n",
              "      <td>-0.000643</td>\n",
              "      <td>0.008881</td>\n",
              "      <td>-0.021195</td>\n",
              "      <td>0.023563</td>\n",
              "      <td>-0.012899</td>\n",
              "      <td>0.022032</td>\n",
              "      <td>0.011578</td>\n",
              "    </tr>\n",
              "    <tr>\n",
              "      <th>10084</th>\n",
              "      <td>0.685647</td>\n",
              "      <td>0.241647</td>\n",
              "      <td>0.003042</td>\n",
              "      <td>0.031437</td>\n",
              "      <td>0.001400</td>\n",
              "      <td>0.037758</td>\n",
              "      <td>0.008221</td>\n",
              "      <td>-0.071608</td>\n",
              "      <td>0.003109</td>\n",
              "      <td>0.065525</td>\n",
              "      <td>0.007250</td>\n",
              "      <td>0.016671</td>\n",
              "      <td>-0.121771</td>\n",
              "      <td>-0.030901</td>\n",
              "      <td>0.018299</td>\n",
              "      <td>-0.001044</td>\n",
              "      <td>0.029981</td>\n",
              "      <td>0.029911</td>\n",
              "      <td>0.020675</td>\n",
              "      <td>0.059191</td>\n",
              "      <td>-0.094734</td>\n",
              "      <td>0.007520</td>\n",
              "      <td>-0.005465</td>\n",
              "      <td>-0.011850</td>\n",
              "      <td>0.099052</td>\n",
              "      <td>0.050604</td>\n",
              "      <td>0.098812</td>\n",
              "      <td>0.013601</td>\n",
              "      <td>-0.009833</td>\n",
              "      <td>-0.013906</td>\n",
              "      <td>0.002820</td>\n",
              "      <td>0.178844</td>\n",
              "      <td>0.249235</td>\n",
              "      <td>0.130335</td>\n",
              "      <td>0.056373</td>\n",
              "      <td>0.016722</td>\n",
              "      <td>0.051365</td>\n",
              "      <td>0.052949</td>\n",
              "      <td>0.153868</td>\n",
              "      <td>0.075765</td>\n",
              "      <td>...</td>\n",
              "      <td>-0.015962</td>\n",
              "      <td>0.009028</td>\n",
              "      <td>0.021293</td>\n",
              "      <td>-0.014201</td>\n",
              "      <td>-0.006747</td>\n",
              "      <td>0.020795</td>\n",
              "      <td>0.015905</td>\n",
              "      <td>-0.012182</td>\n",
              "      <td>-0.042962</td>\n",
              "      <td>-0.144248</td>\n",
              "      <td>-0.001959</td>\n",
              "      <td>0.016875</td>\n",
              "      <td>0.054962</td>\n",
              "      <td>-0.115026</td>\n",
              "      <td>0.060412</td>\n",
              "      <td>0.025022</td>\n",
              "      <td>-0.035284</td>\n",
              "      <td>-0.007756</td>\n",
              "      <td>0.056344</td>\n",
              "      <td>-0.036153</td>\n",
              "      <td>0.012489</td>\n",
              "      <td>-0.000426</td>\n",
              "      <td>-0.011481</td>\n",
              "      <td>-0.003580</td>\n",
              "      <td>0.023323</td>\n",
              "      <td>0.020694</td>\n",
              "      <td>-0.006738</td>\n",
              "      <td>-0.027802</td>\n",
              "      <td>0.005034</td>\n",
              "      <td>0.002111</td>\n",
              "      <td>-0.007975</td>\n",
              "      <td>0.061316</td>\n",
              "      <td>-0.055325</td>\n",
              "      <td>0.022271</td>\n",
              "      <td>-0.016631</td>\n",
              "      <td>-0.002591</td>\n",
              "      <td>0.168930</td>\n",
              "      <td>-0.022890</td>\n",
              "      <td>0.002095</td>\n",
              "      <td>-0.018698</td>\n",
              "    </tr>\n",
              "    <tr>\n",
              "      <th>10094</th>\n",
              "      <td>1.570927</td>\n",
              "      <td>0.421924</td>\n",
              "      <td>0.022504</td>\n",
              "      <td>0.018661</td>\n",
              "      <td>0.030121</td>\n",
              "      <td>-0.001996</td>\n",
              "      <td>-0.041605</td>\n",
              "      <td>0.043333</td>\n",
              "      <td>-0.012648</td>\n",
              "      <td>-0.025311</td>\n",
              "      <td>0.002449</td>\n",
              "      <td>-0.055936</td>\n",
              "      <td>-0.238678</td>\n",
              "      <td>0.128227</td>\n",
              "      <td>0.057559</td>\n",
              "      <td>-0.038427</td>\n",
              "      <td>0.008594</td>\n",
              "      <td>-0.025156</td>\n",
              "      <td>0.020961</td>\n",
              "      <td>0.018819</td>\n",
              "      <td>0.027008</td>\n",
              "      <td>-0.027841</td>\n",
              "      <td>0.096321</td>\n",
              "      <td>-0.016450</td>\n",
              "      <td>0.171526</td>\n",
              "      <td>-0.007544</td>\n",
              "      <td>0.285530</td>\n",
              "      <td>0.194759</td>\n",
              "      <td>0.014207</td>\n",
              "      <td>0.183259</td>\n",
              "      <td>0.009784</td>\n",
              "      <td>0.041345</td>\n",
              "      <td>0.535004</td>\n",
              "      <td>0.309526</td>\n",
              "      <td>-0.030716</td>\n",
              "      <td>-0.004446</td>\n",
              "      <td>-0.068128</td>\n",
              "      <td>0.336764</td>\n",
              "      <td>0.012507</td>\n",
              "      <td>0.071562</td>\n",
              "      <td>...</td>\n",
              "      <td>-0.009763</td>\n",
              "      <td>0.024822</td>\n",
              "      <td>-0.006926</td>\n",
              "      <td>-0.051501</td>\n",
              "      <td>0.007354</td>\n",
              "      <td>-0.020360</td>\n",
              "      <td>-0.009716</td>\n",
              "      <td>0.066674</td>\n",
              "      <td>-0.028010</td>\n",
              "      <td>-0.057732</td>\n",
              "      <td>-0.014882</td>\n",
              "      <td>-0.010441</td>\n",
              "      <td>-0.167725</td>\n",
              "      <td>0.020445</td>\n",
              "      <td>0.020266</td>\n",
              "      <td>-0.043781</td>\n",
              "      <td>-0.050905</td>\n",
              "      <td>0.009374</td>\n",
              "      <td>0.020004</td>\n",
              "      <td>-0.022718</td>\n",
              "      <td>-0.042956</td>\n",
              "      <td>-0.003791</td>\n",
              "      <td>0.000678</td>\n",
              "      <td>0.011415</td>\n",
              "      <td>-0.038178</td>\n",
              "      <td>-0.044994</td>\n",
              "      <td>-0.013556</td>\n",
              "      <td>-0.005873</td>\n",
              "      <td>0.044777</td>\n",
              "      <td>0.009871</td>\n",
              "      <td>0.033390</td>\n",
              "      <td>0.003586</td>\n",
              "      <td>0.134272</td>\n",
              "      <td>-0.024817</td>\n",
              "      <td>-0.011569</td>\n",
              "      <td>0.016715</td>\n",
              "      <td>0.041662</td>\n",
              "      <td>-0.030618</td>\n",
              "      <td>0.078399</td>\n",
              "      <td>0.054449</td>\n",
              "    </tr>\n",
              "  </tbody>\n",
              "</table>\n",
              "<p>5 rows × 9936 columns</p>\n",
              "</div>"
            ],
            "text/plain": [
              "movieID         1        10       100  ...       997       998       999\n",
              "userID                                 ...                              \n",
              "10025    0.955101 -0.182517 -0.000042  ... -0.030106 -0.008694 -0.076709\n",
              "10058    0.719140  0.107967  0.088333  ...  0.007001  0.030118  0.071531\n",
              "10064    0.017136 -0.022044  0.034979  ... -0.012899  0.022032  0.011578\n",
              "10084    0.685647  0.241647  0.003042  ... -0.022890  0.002095 -0.018698\n",
              "10094    1.570927  0.421924  0.022504  ... -0.030618  0.078399  0.054449\n",
              "\n",
              "[5 rows x 9936 columns]"
            ]
          },
          "metadata": {
            "tags": []
          },
          "execution_count": 126
        }
      ]
    },
    {
      "cell_type": "markdown",
      "metadata": {
        "id": "wA1OYPkZ8Wj7"
      },
      "source": [
        "**Prediction for test dataset**<br>\n",
        "For the test dataset. I computed the rating for each user, movie pair from the predicted matrix built by SVD."
      ]
    },
    {
      "cell_type": "code",
      "metadata": {
        "id": "aBpadYq-7MgD",
        "colab": {
          "base_uri": "https://localhost:8080/",
          "height": 212
        },
        "outputId": "a4b7579a-1661-4b74-e275-093717ad6fbe"
      },
      "source": [
        "ratings = []\n",
        "err = 0\n",
        "for index,row in testData.iterrows():\n",
        "  try:\n",
        "    rating = preds.loc[row.userID].loc[row.movieID] + user_ratings_mean_df.loc[row.userID]['mean']\n",
        "    ratings.append(rating)\n",
        "  except Exception as e:\n",
        "    ratings.append(avarge_rating)\n",
        "    err += 1\n",
        "    continue;\n",
        "testData['rating'] = ratings\n",
        "print(\"Movies not in trainning set\", err)\n",
        "testData.head()"
      ],
      "execution_count": null,
      "outputs": [
        {
          "output_type": "stream",
          "text": [
            "Movies not in trainning set 66\n"
          ],
          "name": "stdout"
        },
        {
          "output_type": "execute_result",
          "data": {
            "text/html": [
              "<div>\n",
              "<style scoped>\n",
              "    .dataframe tbody tr th:only-of-type {\n",
              "        vertical-align: middle;\n",
              "    }\n",
              "\n",
              "    .dataframe tbody tr th {\n",
              "        vertical-align: top;\n",
              "    }\n",
              "\n",
              "    .dataframe thead th {\n",
              "        text-align: right;\n",
              "    }\n",
              "</style>\n",
              "<table border=\"1\" class=\"dataframe\">\n",
              "  <thead>\n",
              "    <tr style=\"text-align: right;\">\n",
              "      <th></th>\n",
              "      <th>userID</th>\n",
              "      <th>movieID</th>\n",
              "      <th>rating</th>\n",
              "    </tr>\n",
              "  </thead>\n",
              "  <tbody>\n",
              "    <tr>\n",
              "      <th>0</th>\n",
              "      <td>75</td>\n",
              "      <td>653</td>\n",
              "      <td>0.252761</td>\n",
              "    </tr>\n",
              "    <tr>\n",
              "      <th>1</th>\n",
              "      <td>75</td>\n",
              "      <td>1527</td>\n",
              "      <td>1.056054</td>\n",
              "    </tr>\n",
              "    <tr>\n",
              "      <th>2</th>\n",
              "      <td>75</td>\n",
              "      <td>3258</td>\n",
              "      <td>0.073782</td>\n",
              "    </tr>\n",
              "    <tr>\n",
              "      <th>3</th>\n",
              "      <td>75</td>\n",
              "      <td>7007</td>\n",
              "      <td>0.091500</td>\n",
              "    </tr>\n",
              "    <tr>\n",
              "      <th>4</th>\n",
              "      <td>78</td>\n",
              "      <td>82</td>\n",
              "      <td>0.889309</td>\n",
              "    </tr>\n",
              "  </tbody>\n",
              "</table>\n",
              "</div>"
            ],
            "text/plain": [
              "  userID movieID    rating\n",
              "0     75     653  0.252761\n",
              "1     75    1527  1.056054\n",
              "2     75    3258  0.073782\n",
              "3     75    7007  0.091500\n",
              "4     78      82  0.889309"
            ]
          },
          "metadata": {
            "tags": []
          },
          "execution_count": 127
        }
      ]
    },
    {
      "cell_type": "markdown",
      "metadata": {
        "id": "d6WKcwTu9A7a"
      },
      "source": [
        "There were 66 movies in the test data which were not present in training dataset. This is defined as the **cold start** problem.I set the rating for these movies to the avarge rating of the data set initial before using the additional information. I submitted the result to miner and the result were very poor. The RMSE was 2.45. As the dataset is quite sparse (96%) and there are missing data for 66 movies. So, SVD is not performing well. <br>\n",
        "\n",
        "I am going to use Stochastic Gradient Descent (SGD) for minimizing the regularized squared error with respect to a latent user feature matrix and latent movie feature matrix. Similar to SVD, I will use the number of latent factors = 50."
      ]
    },
    {
      "cell_type": "markdown",
      "metadata": {
        "id": "NVl6Gk5l_NId"
      },
      "source": [
        "### Matrix Factorization (MF) using SGD\n",
        "**Stochastic gradient descent**<br>\n",
        "The approach of predicting ratings by minimizing the regularized squared error with respect to a latent user feature matrix P and a latent item feature matrix Q:<br>\n",
        "![image.png](data:image/png;base64,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)<br>\n",
        "Where K is a set of (u,i) pairs, r(u,i) is the rating for item i by user u and λ is a regularization term (used to avoid overfitting). The training of my model consists of minimizing the regularized squared error. After an estimate of P and Q is obtained, we can predict unknown ratings by taking the dot product of the latent features for users and items.<br>\n",
        "I will apply Stochastic Gradient Descent (SGD) in order to minimize the loss function.\n",
        "Stochastic gradient descent (SGD) is an iterative method for optimizing an objective function with suitable smoothness properties. It can be regarded as a stochastic approximation of gradient descent optimization, since it replaces the actual gradient  by an estimate thereof. Especially in high-dimensional optimization problems this reduces the computational burden, achieving faster iterations in trade for a lower convergence rate.\n",
        "\n",
        "Initially, I created two matrices for the latent features of the users and ratings. For each user, movie pair, I calculated the error (note we use a simple difference of the existing and predicted ratings). Then update P and Q using Gradient Descent.\n",
        "After each training epoch, I calculate the training and validation errors and store their values to analyze later. Then use the optimum value of P and Q to predict the rating for the unrated movies.<br>\n",
        "Typical CF data exhibit large user and item effects – i.e., systematic tendencies for some users to give higher ratings than others,and for some items to receive higher ratings than others. It is customary to adjust the data by accounting for these effects, which is encapsulated within the baseline estimates. Denote by μ the overall average rating. Where bu and bi represents respectively the bias for user and item. My goal was to get the optimal value of P and Q to minimize the second equation. <br>\n",
        "![image.png](data:image/png;base64,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)"
      ]
    },
    {
      "cell_type": "code",
      "metadata": {
        "id": "-7g0YaL67mCI"
      },
      "source": [
        "temp = trainData.copy()\n",
        "ratings_df = temp.pivot( # user-movie rating matrix\n",
        "    index='userID',\n",
        "    columns='movieID',\n",
        "    values='rating'\n",
        ")\n",
        "ratings = ratings_df.fillna(0).values"
      ],
      "execution_count": null,
      "outputs": []
    },
    {
      "cell_type": "code",
      "metadata": {
        "id": "CC9X0lAGANBk"
      },
      "source": [
        "# Creating training and validation set from the training data to determine the optimal P and Q.\n",
        "def train_test_split(ratings):\n",
        "    validation = np.zeros(ratings.shape)\n",
        "    train = ratings.copy()\n",
        "    for user in np.arange(ratings.shape[0]):\n",
        "        if len(ratings[user,:].nonzero()[0]) >= 35: # user who rating more than 35 movies\n",
        "            val_ratings = np.random.choice(\n",
        "              ratings[user, :].nonzero()[0],\n",
        "              size=15, # storing the rating for 15 movies in validation set\n",
        "              replace=False\n",
        "            )\n",
        "            train[user, val_ratings] = 0  # chaning the rating for 15 movies to 0 in training set\n",
        "            validation[user, val_ratings] = ratings[user, val_ratings] # changed data for users who rated more than 35 movies of their rating for 15 random movies\n",
        "    return train, validation\n",
        "train, validation = train_test_split(ratings)    "
      ],
      "execution_count": null,
      "outputs": []
    },
    {
      "cell_type": "markdown",
      "metadata": {
        "id": "pMWaaXQDfGhs"
      },
      "source": [
        "### SGD implementation"
      ]
    },
    {
      "cell_type": "code",
      "metadata": {
        "id": "kapB3im9BUlX"
      },
      "source": [
        "n_epochs=100 \n",
        "n_latent_features=50\n",
        "lmbda=0.1\n",
        "learning_rate=0.001\n",
        "m,n = ratings.shape\n",
        "mu = temp['rating'].mean()\n",
        "\n",
        "def prediction_single(P, Q, bu, bi):\n",
        "  return mu+bu+bi+np.dot(P.T, Q)\n",
        "  \n",
        "def prediction_full(P, Q, bu, bi):\n",
        "  return mu+bu[:,np.newaxis]+bi[np.newaxis:,]+np.dot(P.T, Q)\n",
        "\n",
        "def predict(X_train, user_index):\n",
        "  y_hat = prediction_full(P, Q, bu, bi)\n",
        "  predictions_index = np.where(X_train[user_index, :] == 0)[0]\n",
        "  return y_hat[user_index, predictions_index].flatten()\n",
        "\n",
        "def fit(X_train, X_val):\n",
        "  bu = np.random.rand(m) # initial bias for users\n",
        "  bi = np.random.rand(n) # initial bias for movies\n",
        "  P = np.random.rand(n_latent_features, m) #initial random feature matrix for user\n",
        "  Q = np.random.rand(n_latent_features, n) #initial random feature matrix for movies\n",
        "  train_error = []\n",
        "  val_error = []\n",
        "  users, items = X_train.nonzero()\n",
        "  total_steps = 0\n",
        "  for epoch in range(n_epochs):\n",
        "      total_steps += 1\n",
        "      for u, i in zip(users, items):\n",
        "          error = X_train[u, i] - prediction_single(P[:,u], Q[:,i], bu[u], bi[i])\n",
        "          P[:, u] += learning_rate * (error * Q[:, i] - lmbda * P[:, u])\n",
        "          Q[:, i] += learning_rate * (error * P[:, u] - lmbda * Q[:, i])\n",
        "          bu[u] += learning_rate * (error - lmbda * bu[u]) #updating bias for each user\n",
        "          bi[i] += learning_rate * (error - lmbda * bi[i]) # updating bias for each movie\n",
        "      train_rmse = rmse(prediction_full(P, Q, bu, bi), X_train) #calculating error for training set\n",
        "      val_rmse = rmse(prediction_full(P, Q, bu, bi), X_val) # calculating error for validation set\n",
        "      train_error.append(train_rmse)\n",
        "      val_error.append(val_rmse)\n",
        "      if not epoch%10:\n",
        "        print(epoch)\n",
        "      if epoch > 0:\n",
        "        improv1 = abs(train_error[-1] - train_error[-2])\n",
        "        improv2 = abs(val_error[-1] - val_error[-2])\n",
        "        if(improv1 < 0.0001 and improv2 < 0.0001): ## if errors is less then 0.0001 for both training and validation converged\n",
        "          print(\"converged!!\")\n",
        "          break;      \n",
        "  return {'epoch':total_steps,'train_error':train_error,'val_error':val_error, 'P':P, 'Q':Q, 'bu': bu, 'bi':bi}\n",
        "  \n"
      ],
      "execution_count": null,
      "outputs": []
    },
    {
      "cell_type": "markdown",
      "metadata": {
        "id": "ceTbc1ZTJtNZ"
      },
      "source": [
        "### Cross Validation (3-fold)"
      ]
    },
    {
      "cell_type": "code",
      "metadata": {
        "id": "Z7NV7pjnHMhM",
        "colab": {
          "base_uri": "https://localhost:8080/"
        },
        "outputId": "0f95c39e-8276-4a9c-d370-abbc79b4d520"
      },
      "source": [
        "all_results = {}\n",
        "for k in range(3): \n",
        "  print(\"running \"+ str(k)+ \" fold\")\n",
        "  train, validation = train_test_split(ratings)\n",
        "  all_results[k] = fit(train, validation)\n",
        "   "
      ],
      "execution_count": null,
      "outputs": [
        {
          "output_type": "stream",
          "text": [
            "running 0 fold\n",
            "0\n",
            "10\n",
            "20\n",
            "30\n",
            "40\n",
            "50\n",
            "60\n",
            "70\n",
            "80\n",
            "90\n",
            "running 1 fold\n",
            "0\n",
            "10\n",
            "20\n",
            "30\n",
            "40\n",
            "50\n",
            "60\n",
            "70\n",
            "80\n",
            "90\n",
            "running 2 fold\n",
            "0\n",
            "10\n",
            "20\n",
            "30\n",
            "40\n",
            "50\n",
            "60\n",
            "70\n",
            "80\n",
            "90\n"
          ],
          "name": "stdout"
        }
      ]
    },
    {
      "cell_type": "code",
      "metadata": {
        "id": "Qxx_c75kDoCl",
        "colab": {
          "base_uri": "https://localhost:8080/",
          "height": 404
        },
        "outputId": "97dd2940-cbd2-447e-b3fc-ced85d618482"
      },
      "source": [
        "\n",
        "### Ploting the rmse error for training data and valiadation data\n",
        "fig,ax = plt.subplots(2,2,figsize=(10,6)) \n",
        "ax[0][0].plot(range(all_results[0]['epoch']), all_results[0]['train_error'], label='Training Data');\n",
        "ax[0][0].plot(range(all_results[0]['epoch']), all_results[0]['val_error'],label='Validation Data');\n",
        "ax[0][0].set_xlabel('Number of Epochs');\n",
        "ax[0][0].set_ylabel('RMSE');\n",
        "ax[0][0].set_title(\"k Fold cross validation\")\n",
        "ax[0][0].legend()\n",
        "\n",
        "ax[0][1].plot(range(all_results[1]['epoch']), all_results[1]['train_error'], label='Training Data');\n",
        "ax[0][1].plot(range(all_results[1]['epoch']), all_results[1]['val_error'],label='Validation Data');\n",
        "ax[0][1].set_xlabel('Number of Epochs');\n",
        "ax[0][1].set_ylabel('RMSE');\n",
        "# ax[0][1].set_title(\"k Fold cross validation\")\n",
        "ax[0][1].legend()\n",
        "\n",
        "ax[1][0].plot(range(all_results[2]['epoch']), all_results[2]['train_error'], label='Training Data');\n",
        "ax[1][0].plot(range(all_results[2]['epoch']), all_results[2]['val_error'],label='Validation Data');\n",
        "ax[1][0].set_xlabel('Number of Epochs');\n",
        "ax[1][0].set_ylabel('RMSE');\n",
        "# ax[1][0].set_title(\"k Fold cross validation\")\n",
        "ax[1][0].legend()\n",
        "\n",
        "ax[-1, -1].axis('off')\n",
        "plt.show()"
      ],
      "execution_count": null,
      "outputs": [
        {
          "output_type": "display_data",
          "data": {
            "image/png": "[encoded data removed]",
            "text/plain": [
              "<Figure size 720x432 with 4 Axes>"
            ]
          },
          "metadata": {
            "tags": [],
            "needs_background": "light"
          }
        }
      ]
    },
    {
      "cell_type": "markdown",
      "metadata": {
        "id": "kmpG9Pa93Tru"
      },
      "source": [
        "### "
      ]
    },
    {
      "cell_type": "code",
      "metadata": {
        "id": "He7WQAXqJ8m-"
      },
      "source": [
        "movies = ratings_df.columns\n",
        "users =  ratings_df.index\n",
        "def create_dictonary (index,ratings):\n",
        "  data ={str(index[i]): ratings[i] for i in range(len(index))}\n",
        "  return data  "
      ],
      "execution_count": null,
      "outputs": []
    },
    {
      "cell_type": "code",
      "metadata": {
        "id": "Vhgi4TanKGZG"
      },
      "source": [
        "### Storing existing rating for movies by each user for faster computation\n",
        "existing = {} \n",
        "for user in users:\n",
        "    existing[user] = {} \n",
        "    user_index = ratings_df.index.get_loc(user)\n",
        "    existing_ratings_index = np.where(ratings[user_index, :] > 0)[0]\n",
        "    existing_ratings = ratings[user_index, existing_ratings_index]\n",
        "    existing[user] = create_dictonary(existing_ratings_index,existing_ratings)"
      ],
      "execution_count": null,
      "outputs": []
    },
    {
      "cell_type": "code",
      "metadata": {
        "id": "WiNeDE-FKyVe"
      },
      "source": [
        "###creating prediction dictionary for unrated movie by each user for faster computation\n",
        "predicted = {}  \n",
        "for user in users:\n",
        "    predicted[user] = {} \n",
        "    user_index = ratings_df.index.get_loc(user)\n",
        "    predictions_index = np.where(ratings[user_index, :] == 0)[0]\n",
        "    rating_predictions = predict(ratings, user_index)\n",
        "    predicted[user] = create_dictonary(predictions_index,rating_predictions)"
      ],
      "execution_count": null,
      "outputs": []
    },
    {
      "cell_type": "markdown",
      "metadata": {
        "id": "n1nif1UdNQCe"
      },
      "source": [
        "**Prediction for Test set**<br>Initially for the cold start movies I assigned the rating to the averge rating and for other movie ratings, I collected the rating from my prediction dictionary for each user and movie pair.\n"
      ]
    },
    {
      "cell_type": "code",
      "metadata": {
        "id": "rseoPc9ELBb0",
        "colab": {
          "base_uri": "https://localhost:8080/"
        },
        "outputId": "c2e64f9a-3319-4b31-d3da-2f1b351b4382"
      },
      "source": [
        "testDataSGD = preprocess_test(dfTest)\n",
        "rate = []\n",
        "err = 0\n",
        "unlisted_movies=[]\n",
        "for index,row in testDataSGD.iterrows():\n",
        "  if row.movieID in movies:\n",
        "    if row.userID in users:\n",
        "      # print(row.userID)\n",
        "      col_index = str(ratings_df.columns.get_loc(row.movieID))\n",
        "      user_id = row.userID\n",
        "      user_index = ratings_df.index.get_loc(user_id)\n",
        "      if str(col_index) in list(existing[user_id].keys()):\n",
        "        # print(\"existing rating\",existing[user_id][col_index])\n",
        "        rate.append(existing[user_id][col_index])\n",
        "      elif str(col_index) in list(predicted[user_id].keys()):\n",
        "        # print(\"predicted rating\",user_id,predicted[user_id][col_index])\n",
        "        rate.append(predicted[user_id][col_index]) \n",
        "      else:\n",
        "        rate.append(avarge_rating)   \n",
        "  else:\n",
        "    rate.append(avarge_rating)\n",
        "    unlisted_movies.append(row.movieID)\n",
        "    err += 1    \n",
        "testDataSGD['rating'] = rate\n",
        "print(\"Movies not present in Traning set\", err)"
      ],
      "execution_count": null,
      "outputs": [
        {
          "output_type": "stream",
          "text": [
            "/usr/local/lib/python3.6/dist-packages/ipykernel_launcher.py:15: SettingWithCopyWarning: \n",
            "A value is trying to be set on a copy of a slice from a DataFrame.\n",
            "Try using .loc[row_indexer,col_indexer] = value instead\n",
            "\n",
            "See the caveats in the documentation: https://pandas.pydata.org/pandas-docs/stable/user_guide/indexing.html#returning-a-view-versus-a-copy\n",
            "  from ipykernel import kernelapp as app\n",
            "/usr/local/lib/python3.6/dist-packages/ipykernel_launcher.py:16: SettingWithCopyWarning: \n",
            "A value is trying to be set on a copy of a slice from a DataFrame.\n",
            "Try using .loc[row_indexer,col_indexer] = value instead\n",
            "\n",
            "See the caveats in the documentation: https://pandas.pydata.org/pandas-docs/stable/user_guide/indexing.html#returning-a-view-versus-a-copy\n",
            "  app.launch_new_instance()\n"
          ],
          "name": "stderr"
        },
        {
          "output_type": "stream",
          "text": [
            "Movies not present in Traning set 66\n"
          ],
          "name": "stdout"
        },
        {
          "output_type": "stream",
          "text": [
            "/usr/local/lib/python3.6/dist-packages/ipykernel_launcher.py:24: SettingWithCopyWarning: \n",
            "A value is trying to be set on a copy of a slice from a DataFrame.\n",
            "Try using .loc[row_indexer,col_indexer] = value instead\n",
            "\n",
            "See the caveats in the documentation: https://pandas.pydata.org/pandas-docs/stable/user_guide/indexing.html#returning-a-view-versus-a-copy\n"
          ],
          "name": "stderr"
        }
      ]
    },
    {
      "cell_type": "code",
      "metadata": {
        "id": "jUynNU-CN8vu",
        "colab": {
          "base_uri": "https://localhost:8080/",
          "height": 195
        },
        "outputId": "5caa8fc6-a83b-4972-e2db-113148994a8f"
      },
      "source": [
        "#predicted rating for test data using SGD\n",
        "testDataSGD.head(5)"
      ],
      "execution_count": null,
      "outputs": [
        {
          "output_type": "execute_result",
          "data": {
            "text/html": [
              "<div>\n",
              "<style scoped>\n",
              "    .dataframe tbody tr th:only-of-type {\n",
              "        vertical-align: middle;\n",
              "    }\n",
              "\n",
              "    .dataframe tbody tr th {\n",
              "        vertical-align: top;\n",
              "    }\n",
              "\n",
              "    .dataframe thead th {\n",
              "        text-align: right;\n",
              "    }\n",
              "</style>\n",
              "<table border=\"1\" class=\"dataframe\">\n",
              "  <thead>\n",
              "    <tr style=\"text-align: right;\">\n",
              "      <th></th>\n",
              "      <th>userID</th>\n",
              "      <th>movieID</th>\n",
              "      <th>rating</th>\n",
              "    </tr>\n",
              "  </thead>\n",
              "  <tbody>\n",
              "    <tr>\n",
              "      <th>0</th>\n",
              "      <td>75</td>\n",
              "      <td>653</td>\n",
              "      <td>3.293538</td>\n",
              "    </tr>\n",
              "    <tr>\n",
              "      <th>1</th>\n",
              "      <td>75</td>\n",
              "      <td>1527</td>\n",
              "      <td>3.658139</td>\n",
              "    </tr>\n",
              "    <tr>\n",
              "      <th>2</th>\n",
              "      <td>75</td>\n",
              "      <td>3258</td>\n",
              "      <td>3.516875</td>\n",
              "    </tr>\n",
              "    <tr>\n",
              "      <th>3</th>\n",
              "      <td>75</td>\n",
              "      <td>7007</td>\n",
              "      <td>4.484604</td>\n",
              "    </tr>\n",
              "    <tr>\n",
              "      <th>4</th>\n",
              "      <td>78</td>\n",
              "      <td>82</td>\n",
              "      <td>4.238441</td>\n",
              "    </tr>\n",
              "  </tbody>\n",
              "</table>\n",
              "</div>"
            ],
            "text/plain": [
              "  userID movieID    rating\n",
              "0     75     653  3.293538\n",
              "1     75    1527  3.658139\n",
              "2     75    3258  3.516875\n",
              "3     75    7007  4.484604\n",
              "4     78      82  4.238441"
            ]
          },
          "metadata": {
            "tags": []
          },
          "execution_count": 55
        }
      ]
    },
    {
      "cell_type": "code",
      "metadata": {
        "id": "rHz5s3aNQoGW"
      },
      "source": [
        "#converting less than 0 rating to 0 and greater than 5 rating to 5\n",
        "a =  testDataSGD['rating'].values \n",
        "b=[]\n",
        "for i in a:\n",
        "  if (i>5):\n",
        "    b.append(5)\n",
        "  elif (i<0):\n",
        "    b.append(0)\n",
        "  else:\n",
        "    b.append(i)   "
      ],
      "execution_count": null,
      "outputs": []
    },
    {
      "cell_type": "code",
      "metadata": {
        "id": "t4u3sG-cveqK"
      },
      "source": [
        "#Storing results for the test data in format.txt\n",
        "with open('format.txt', 'w') as filehandle:\n",
        "    for listitem in b:\n",
        "        filehandle.write('%s\\n' % listitem)"
      ],
      "execution_count": null,
      "outputs": []
    },
    {
      "cell_type": "markdown",
      "metadata": {
        "id": "88vpAWSBv_mt"
      },
      "source": [
        "**Using Additional information for rating Cold start movies**\n",
        "\n",
        "---\n",
        "I used the movie genre information to get the similar movies and assigned the rating for unlisted movie to the rating of the most similar movie rated by that particular user. \n",
        "\n"
      ]
    },
    {
      "cell_type": "code",
      "metadata": {
        "id": "rcTxXcfsvm7h"
      },
      "source": [
        "def preprocess_genre(df):\n",
        "  df['movieID'] = df['movieID\\tgenre'].str.split('\\t').str[0]\n",
        "  df['genre'] = df['movieID\\tgenre'].str.split('\\t').str[1]\n",
        "  df= df[['movieID','genre']]\n",
        "  df['movieID']=df['movieID'].astype('str')\n",
        "  df['genre']=df['genre'].astype('str')\n",
        "  return df"
      ],
      "execution_count": null,
      "outputs": []
    },
    {
      "cell_type": "code",
      "metadata": {
        "id": "wvA9NgU5wnAH",
        "colab": {
          "base_uri": "https://localhost:8080/"
        },
        "outputId": "bf20d98a-b58b-4864-af36-ce6fc031569a"
      },
      "source": [
        "dfgenre = pd.read_csv('movie_genres.dat')\n",
        "genre = preprocess_genre(dfgenre)\n",
        "genre = genre.astype(str)\n",
        "keys = genre.movieID.unique()\n",
        "genreDict = dict(zip(keys, ([] for _ in keys)))\n",
        "for index,row in genre.iterrows():\n",
        "  if row.movieID in genre.movieID.unique():\n",
        "    genreDict[row.movieID].append(row.genre)\n",
        "for k in genreDict.keys():\n",
        "  genreDict[k] = ' '.join(genreDict[k])    # storing the genres of each movie in a dictionary, key = movieID, value= genres as string "
      ],
      "execution_count": null,
      "outputs": [
        {
          "output_type": "stream",
          "text": [
            "/usr/local/lib/python3.6/dist-packages/ipykernel_launcher.py:6: SettingWithCopyWarning: \n",
            "A value is trying to be set on a copy of a slice from a DataFrame.\n",
            "Try using .loc[row_indexer,col_indexer] = value instead\n",
            "\n",
            "See the caveats in the documentation: https://pandas.pydata.org/pandas-docs/stable/user_guide/indexing.html#returning-a-view-versus-a-copy\n",
            "  \n",
            "/usr/local/lib/python3.6/dist-packages/ipykernel_launcher.py:7: SettingWithCopyWarning: \n",
            "A value is trying to be set on a copy of a slice from a DataFrame.\n",
            "Try using .loc[row_indexer,col_indexer] = value instead\n",
            "\n",
            "See the caveats in the documentation: https://pandas.pydata.org/pandas-docs/stable/user_guide/indexing.html#returning-a-view-versus-a-copy\n",
            "  import sys\n"
          ],
          "name": "stderr"
        }
      ]
    },
    {
      "cell_type": "code",
      "metadata": {
        "id": "8lIG6z1bwwVh"
      },
      "source": [
        "unlistedDict = dict(zip(unlisted_movies, ([] for _ in unlisted_movies)))\n",
        "for j in unlisted_movies:\n",
        "  if j in genreDict.keys():\n",
        "    unlistedDict[j].append(genreDict[j]) # storing the genres of unlisted movies only in a dictionary, key = movieID, value= genres \n",
        "    del genreDict[j] #delecting records of unlisted movies from original dictionary"
      ],
      "execution_count": null,
      "outputs": []
    },
    {
      "cell_type": "code",
      "metadata": {
        "id": "Vj3RLH-wydF-"
      },
      "source": [
        "#Coverting the two listed and unlisted dictionary into pandas dataframe\n",
        "dataGenre= pd.DataFrame.from_dict(genreDict, orient='index',columns=['genre']).reset_index()\n",
        "dataGenre= dataGenre.rename(columns= {\"index\" : \"movieID\"})\n",
        "dataUnlisted= pd.DataFrame.from_dict(unlistedDict, orient='index',columns=['genre'])"
      ],
      "execution_count": null,
      "outputs": []
    },
    {
      "cell_type": "code",
      "metadata": {
        "id": "jN5u6D4KzR_y",
        "colab": {
          "base_uri": "https://localhost:8080/",
          "height": 106
        },
        "outputId": "e44af750-6d0c-4e14-c029-d0420592b077"
      },
      "source": [
        "#listed\n",
        "dataGenre.head(2)"
      ],
      "execution_count": null,
      "outputs": [
        {
          "output_type": "execute_result",
          "data": {
            "text/html": [
              "<div>\n",
              "<style scoped>\n",
              "    .dataframe tbody tr th:only-of-type {\n",
              "        vertical-align: middle;\n",
              "    }\n",
              "\n",
              "    .dataframe tbody tr th {\n",
              "        vertical-align: top;\n",
              "    }\n",
              "\n",
              "    .dataframe thead th {\n",
              "        text-align: right;\n",
              "    }\n",
              "</style>\n",
              "<table border=\"1\" class=\"dataframe\">\n",
              "  <thead>\n",
              "    <tr style=\"text-align: right;\">\n",
              "      <th></th>\n",
              "      <th>movieID</th>\n",
              "      <th>genre</th>\n",
              "    </tr>\n",
              "  </thead>\n",
              "  <tbody>\n",
              "    <tr>\n",
              "      <th>0</th>\n",
              "      <td>1</td>\n",
              "      <td>Adventure Animation Children Comedy Fantasy</td>\n",
              "    </tr>\n",
              "    <tr>\n",
              "      <th>1</th>\n",
              "      <td>2</td>\n",
              "      <td>Adventure Children Fantasy</td>\n",
              "    </tr>\n",
              "  </tbody>\n",
              "</table>\n",
              "</div>"
            ],
            "text/plain": [
              "  movieID                                        genre\n",
              "0       1  Adventure Animation Children Comedy Fantasy\n",
              "1       2                   Adventure Children Fantasy"
            ]
          },
          "metadata": {
            "tags": []
          },
          "execution_count": 75
        }
      ]
    },
    {
      "cell_type": "code",
      "metadata": {
        "id": "1pAd0kwFzVXv",
        "colab": {
          "base_uri": "https://localhost:8080/",
          "height": 106
        },
        "outputId": "73177131-cb53-412b-8031-dc9f192f950d"
      },
      "source": [
        "#unlisted\n",
        "dataUnlisted.head(2)"
      ],
      "execution_count": null,
      "outputs": [
        {
          "output_type": "execute_result",
          "data": {
            "text/html": [
              "<div>\n",
              "<style scoped>\n",
              "    .dataframe tbody tr th:only-of-type {\n",
              "        vertical-align: middle;\n",
              "    }\n",
              "\n",
              "    .dataframe tbody tr th {\n",
              "        vertical-align: top;\n",
              "    }\n",
              "\n",
              "    .dataframe thead th {\n",
              "        text-align: right;\n",
              "    }\n",
              "</style>\n",
              "<table border=\"1\" class=\"dataframe\">\n",
              "  <thead>\n",
              "    <tr style=\"text-align: right;\">\n",
              "      <th></th>\n",
              "      <th>genre</th>\n",
              "    </tr>\n",
              "  </thead>\n",
              "  <tbody>\n",
              "    <tr>\n",
              "      <th>1915</th>\n",
              "      <td>Drama</td>\n",
              "    </tr>\n",
              "    <tr>\n",
              "      <th>1434</th>\n",
              "      <td>Action</td>\n",
              "    </tr>\n",
              "  </tbody>\n",
              "</table>\n",
              "</div>"
            ],
            "text/plain": [
              "       genre\n",
              "1915   Drama\n",
              "1434  Action"
            ]
          },
          "metadata": {
            "tags": []
          },
          "execution_count": 76
        }
      ]
    },
    {
      "cell_type": "markdown",
      "metadata": {
        "id": "OZM7NCzCP-o7"
      },
      "source": [
        "I used TF-IDF Sklearn Python to calculate the tf-idf score. I used TfidfVectorizer class for calualting TF-IDF for each word genre strings for listed and unlisted movies.  Later, I calculated the cosine similarity between them and stored the movieID of the most similar genre w.r.t to unlisted movies"
      ]
    },
    {
      "cell_type": "code",
      "metadata": {
        "id": "LIHR7hzhz0QE"
      },
      "source": [
        "tf1 = TfidfVectorizer()\n",
        "tf =tf1.fit(dataGenre['genre'])\n",
        "listed =tf.transform(dataGenre['genre']) #Transforming gernes to genre-term matrix\n",
        "unlisted =tf.transform(dataUnlisted['genre']) #Transforming gernes to genre-term matrix\n",
        "sim_sparse = cosine_similarity( unlisted, listed, dense_output=False) # calculating cosine similarity for each entry of unlisted set with all entries of listed set\n",
        "sim = sim_sparse.toarray()"
      ],
      "execution_count": null,
      "outputs": []
    },
    {
      "cell_type": "code",
      "metadata": {
        "id": "PN5oqt6Jz8ch"
      },
      "source": [
        "ind=[]\n",
        "for j in range(0,65):\n",
        "  k = np.argmax(sim[j])\n",
        "  # print(max(sim[j]), np.unravel_index(np.argmax(sim[j], axis=None), sim[j].shape))\n",
        "  ind.append(k)\n",
        "similar=[]\n",
        "for k in ind:\n",
        "  similar.append(dataGenre['movieID'].iloc[k])  "
      ],
      "execution_count": null,
      "outputs": []
    },
    {
      "cell_type": "code",
      "metadata": {
        "id": "jA4FZJ1J4W-j",
        "colab": {
          "base_uri": "https://localhost:8080/",
          "height": 195
        },
        "outputId": "b551ddef-92c6-4d3d-c596-d865bd48faa2"
      },
      "source": [
        "dataUnlisted['similar']=similar\n",
        "# unlisted movies with the most similar genre movie\n",
        "dataUnlisted.head(5)"
      ],
      "execution_count": null,
      "outputs": [
        {
          "output_type": "execute_result",
          "data": {
            "text/html": [
              "<div>\n",
              "<style scoped>\n",
              "    .dataframe tbody tr th:only-of-type {\n",
              "        vertical-align: middle;\n",
              "    }\n",
              "\n",
              "    .dataframe tbody tr th {\n",
              "        vertical-align: top;\n",
              "    }\n",
              "\n",
              "    .dataframe thead th {\n",
              "        text-align: right;\n",
              "    }\n",
              "</style>\n",
              "<table border=\"1\" class=\"dataframe\">\n",
              "  <thead>\n",
              "    <tr style=\"text-align: right;\">\n",
              "      <th></th>\n",
              "      <th>genre</th>\n",
              "      <th>similar</th>\n",
              "    </tr>\n",
              "  </thead>\n",
              "  <tbody>\n",
              "    <tr>\n",
              "      <th>1915</th>\n",
              "      <td>Drama</td>\n",
              "      <td>14</td>\n",
              "    </tr>\n",
              "    <tr>\n",
              "      <th>1434</th>\n",
              "      <td>Action</td>\n",
              "      <td>9</td>\n",
              "    </tr>\n",
              "    <tr>\n",
              "      <th>56744</th>\n",
              "      <td>Crime Drama Mystery</td>\n",
              "      <td>159</td>\n",
              "    </tr>\n",
              "    <tr>\n",
              "      <th>65091</th>\n",
              "      <td>Crime Drama Romance</td>\n",
              "      <td>81</td>\n",
              "    </tr>\n",
              "    <tr>\n",
              "      <th>31011</th>\n",
              "      <td>Documentary</td>\n",
              "      <td>77</td>\n",
              "    </tr>\n",
              "  </tbody>\n",
              "</table>\n",
              "</div>"
            ],
            "text/plain": [
              "                     genre similar\n",
              "1915                 Drama      14\n",
              "1434                Action       9\n",
              "56744  Crime Drama Mystery     159\n",
              "65091  Crime Drama Romance      81\n",
              "31011          Documentary      77"
            ]
          },
          "metadata": {
            "tags": []
          },
          "execution_count": 88
        }
      ]
    },
    {
      "cell_type": "code",
      "metadata": {
        "id": "T2xRfIa54_gW",
        "colab": {
          "base_uri": "https://localhost:8080/"
        },
        "outputId": "afedb5df-cb79-4598-ab4a-b507255c58fa"
      },
      "source": [
        "testDataGenre = preprocess_test(dfTest)\n",
        "rate = []\n",
        "err = 0\n",
        "unlisted_movies=[]\n",
        "for index,row in testDataGenre.iterrows():\n",
        "  if row.movieID not in movies:\n",
        "    movieID = dataUnlisted['similar'].loc[row.movieID]\n",
        "    err += 1 \n",
        "  else:\n",
        "    movieID=row.movieID \n",
        "  if row.userID in users:\n",
        "    col_index = str(ratings_df.columns.get_loc(movieID))\n",
        "    user_id = row.userID\n",
        "    user_index = ratings_df.index.get_loc(user_id)\n",
        "    if str(col_index) in list(existing[user_id].keys()):\n",
        "      rate.append(existing[user_id][col_index])\n",
        "    elif str(col_index) in list(predicted[user_id].keys()):\n",
        "      rate.append(predicted[user_id][col_index]) \n",
        "    else:\n",
        "      rate.append(avarge_rating)      \n",
        "testDataGenre['rating'] = rate\n",
        "print(\"Movies not present in Traning set\", err)"
      ],
      "execution_count": null,
      "outputs": [
        {
          "output_type": "stream",
          "text": [
            "/usr/local/lib/python3.6/dist-packages/ipykernel_launcher.py:15: SettingWithCopyWarning: \n",
            "A value is trying to be set on a copy of a slice from a DataFrame.\n",
            "Try using .loc[row_indexer,col_indexer] = value instead\n",
            "\n",
            "See the caveats in the documentation: https://pandas.pydata.org/pandas-docs/stable/user_guide/indexing.html#returning-a-view-versus-a-copy\n",
            "  from ipykernel import kernelapp as app\n",
            "/usr/local/lib/python3.6/dist-packages/ipykernel_launcher.py:16: SettingWithCopyWarning: \n",
            "A value is trying to be set on a copy of a slice from a DataFrame.\n",
            "Try using .loc[row_indexer,col_indexer] = value instead\n",
            "\n",
            "See the caveats in the documentation: https://pandas.pydata.org/pandas-docs/stable/user_guide/indexing.html#returning-a-view-versus-a-copy\n",
            "  app.launch_new_instance()\n"
          ],
          "name": "stderr"
        },
        {
          "output_type": "stream",
          "text": [
            "Movies not present in Traning set 66\n"
          ],
          "name": "stdout"
        },
        {
          "output_type": "stream",
          "text": [
            "/usr/local/lib/python3.6/dist-packages/ipykernel_launcher.py:24: SettingWithCopyWarning: \n",
            "A value is trying to be set on a copy of a slice from a DataFrame.\n",
            "Try using .loc[row_indexer,col_indexer] = value instead\n",
            "\n",
            "See the caveats in the documentation: https://pandas.pydata.org/pandas-docs/stable/user_guide/indexing.html#returning-a-view-versus-a-copy\n"
          ],
          "name": "stderr"
        }
      ]
    },
    {
      "cell_type": "code",
      "metadata": {
        "id": "WyepNaoq6rmb",
        "colab": {
          "base_uri": "https://localhost:8080/",
          "height": 195
        },
        "outputId": "79994cb5-6210-44c4-f53f-cae329aee331"
      },
      "source": [
        "testDataGenre.head(5)"
      ],
      "execution_count": null,
      "outputs": [
        {
          "output_type": "execute_result",
          "data": {
            "text/html": [
              "<div>\n",
              "<style scoped>\n",
              "    .dataframe tbody tr th:only-of-type {\n",
              "        vertical-align: middle;\n",
              "    }\n",
              "\n",
              "    .dataframe tbody tr th {\n",
              "        vertical-align: top;\n",
              "    }\n",
              "\n",
              "    .dataframe thead th {\n",
              "        text-align: right;\n",
              "    }\n",
              "</style>\n",
              "<table border=\"1\" class=\"dataframe\">\n",
              "  <thead>\n",
              "    <tr style=\"text-align: right;\">\n",
              "      <th></th>\n",
              "      <th>userID</th>\n",
              "      <th>movieID</th>\n",
              "      <th>rating</th>\n",
              "    </tr>\n",
              "  </thead>\n",
              "  <tbody>\n",
              "    <tr>\n",
              "      <th>0</th>\n",
              "      <td>75</td>\n",
              "      <td>653</td>\n",
              "      <td>3.293538</td>\n",
              "    </tr>\n",
              "    <tr>\n",
              "      <th>1</th>\n",
              "      <td>75</td>\n",
              "      <td>1527</td>\n",
              "      <td>3.658139</td>\n",
              "    </tr>\n",
              "    <tr>\n",
              "      <th>2</th>\n",
              "      <td>75</td>\n",
              "      <td>3258</td>\n",
              "      <td>3.516875</td>\n",
              "    </tr>\n",
              "    <tr>\n",
              "      <th>3</th>\n",
              "      <td>75</td>\n",
              "      <td>7007</td>\n",
              "      <td>4.484604</td>\n",
              "    </tr>\n",
              "    <tr>\n",
              "      <th>4</th>\n",
              "      <td>78</td>\n",
              "      <td>82</td>\n",
              "      <td>4.238441</td>\n",
              "    </tr>\n",
              "  </tbody>\n",
              "</table>\n",
              "</div>"
            ],
            "text/plain": [
              "  userID movieID    rating\n",
              "0     75     653  3.293538\n",
              "1     75    1527  3.658139\n",
              "2     75    3258  3.516875\n",
              "3     75    7007  4.484604\n",
              "4     78      82  4.238441"
            ]
          },
          "metadata": {
            "tags": []
          },
          "execution_count": 99
        }
      ]
    },
    {
      "cell_type": "code",
      "metadata": {
        "id": "7ud8mp8S7IS-"
      },
      "source": [
        "#converting less than 0 rating to 0 and greater than 5 rating to 5\n",
        "c =  testDataGenre['rating'].values \n",
        "d=[]\n",
        "for i in c:\n",
        "  if (i>5):\n",
        "    d.append(5)\n",
        "  elif (i<0):\n",
        "    d.append(0)\n",
        "  else:\n",
        "    d.append(i) "
      ],
      "execution_count": null,
      "outputs": []
    },
    {
      "cell_type": "code",
      "metadata": {
        "id": "P7CkSfSq7XUF"
      },
      "source": [
        "#Storing results for the test data in format.txt\n",
        "with open('formatgenre.txt', 'w') as filehandle:\n",
        "    for listitem in d:\n",
        "        filehandle.write('%s\\n' % listitem)"
      ],
      "execution_count": null,
      "outputs": []
    },
    {
      "cell_type": "markdown",
      "metadata": {
        "id": "RWHabnbj8Bz1"
      },
      "source": [
        "I submitted both (SGD with and wothout genre information) of the predicted rating for the test data set in Miner and the RMSE value was 0.80."
      ]
    }
  ]
}
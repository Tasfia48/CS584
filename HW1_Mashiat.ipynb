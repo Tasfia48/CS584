{
  "nbformat": 4,
  "nbformat_minor": 0,
  "metadata": {
    "colab": {
      "name": "HW1_Mashiat.ipynb",
      "provenance": [],
      "collapsed_sections": [],
      "toc_visible": true,
      "mount_file_id": "1EY22bug3vtUrdyTweQSkpOoi5876qlw_",
      "authorship_tag": "ABX9TyPPVJ0uOuSX5OhlBCv2AW3t",
      "include_colab_link": true
    },
    "kernelspec": {
      "name": "python3",
      "display_name": "Python 3"
    }
  },
  "cells": [
    {
      "cell_type": "markdown",
      "metadata": {
        "id": "view-in-github",
        "colab_type": "text"
      },
      "source": [
        "<a href=\"https://colab.research.google.com/github/Tasfia48/CS584/blob/main/HW1_Mashiat.ipynb\" target=\"_parent\"><img src=\"https://colab.research.google.com/assets/colab-badge.svg\" alt=\"Open In Colab\"/></a>"
      ]
    },
    {
      "cell_type": "markdown",
      "metadata": {
        "id": "_DPC-Hhur1yv"
      },
      "source": [
        "\n",
        "\n",
        "\n",
        "* Team Name: \"oishee1995\"\n",
        "* Rank: 8\n",
        "* Accuracy: 0.85\n",
        "\n",
        "\n",
        "\n"
      ]
    },
    {
      "cell_type": "markdown",
      "metadata": {
        "id": "V2Z2L3LnRjvb"
      },
      "source": [
        "### Goal: \n",
        "My goal for this homework was to predict sentiments for movie reviews. Here, I have built a machine learning model using k-Nearest Neighbors algorithm to predict the sentiments."
      ]
    },
    {
      "cell_type": "code",
      "metadata": {
        "id": "gLU_q50e6q2I",
        "colab": {
          "base_uri": "https://localhost:8080/",
          "height": 151
        },
        "outputId": "8f113e01-7b4f-4061-e22b-497c1eba908c"
      },
      "source": [
        "#Load the necessary python libraries\n",
        "!pip install nltk\n",
        "import pandas as pd\n",
        "import matplotlib.pyplot as plt\n",
        "import re # module for regular experssion operations\n",
        "import operator\n",
        "import json\n",
        "\n",
        "from collections import OrderedDict\n",
        "from collections import Counter\n",
        "\n",
        "import nltk\n",
        "from nltk.tokenize import sent_tokenize\n",
        "from nltk.tokenize import word_tokenize\n",
        "from nltk.corpus import stopwords\n",
        "from nltk.stem.wordnet import WordNetLemmatizer\n",
        "lem = WordNetLemmatizer()\n",
        "nltk.download('stopwords')\n",
        "nltk.download('wordnet')\n",
        "nltk.download('punkt')\n",
        "\n",
        "import sklearn.metrics as metrics\n",
        "from sklearn.feature_extraction.text import TfidfVectorizer\n",
        "from sklearn.metrics import accuracy_score\n",
        "from bs4 import BeautifulSoup\n",
        "\n",
        "from sklearn.metrics.pairwise import cosine_similarity\n",
        "from scipy import sparse"
      ],
      "execution_count": null,
      "outputs": [
        {
          "output_type": "stream",
          "text": [
            "Requirement already satisfied: nltk in /usr/local/lib/python3.6/dist-packages (3.2.5)\n",
            "Requirement already satisfied: six in /usr/local/lib/python3.6/dist-packages (from nltk) (1.15.0)\n",
            "[nltk_data] Downloading package stopwords to /root/nltk_data...\n",
            "[nltk_data]   Unzipping corpora/stopwords.zip.\n",
            "[nltk_data] Downloading package wordnet to /root/nltk_data...\n",
            "[nltk_data]   Unzipping corpora/wordnet.zip.\n",
            "[nltk_data] Downloading package punkt to /root/nltk_data...\n",
            "[nltk_data]   Unzipping tokenizers/punkt.zip.\n"
          ],
          "name": "stdout"
        }
      ]
    },
    {
      "cell_type": "markdown",
      "metadata": {
        "id": "9AHZoujMUGSm"
      },
      "source": [
        "### Load data:\n",
        "Initially, I load the data from the text files and store them in separate dataframes. The training dataset is in dfTrain and testing dataset is in dfTest. Each dataset has two columns: review and sentiment \n",
        "\n"
      ]
    },
    {
      "cell_type": "code",
      "metadata": {
        "id": "w9p8sE2_6ysq"
      },
      "source": [
        "#Loading training data\n",
        "docs = []\n",
        "sentiments = []\n",
        "with open(\"1598639150_466036_train_file.txt\", \"r\") as a_file: # path to train file\n",
        "  for line in a_file:\n",
        "    split_line = line.split(\"\\t\")\n",
        "    sentiments.append(split_line[0])\n",
        "    docs.append(split_line[1])\n",
        "dfTrain = pd.DataFrame()\n",
        "dfTrain['review'] = docs\n",
        "dfTrain['sentiment'] = sentiments\n",
        "dfTrain = dfTrain.iloc[1:]\n",
        "\n",
        "# Loading Testing data\n",
        "docTest = []\n",
        "#sentiments = []\n",
        "with open(\"1598639150_4984343_test_file.txt\", \"r\") as a_file: # path to test file\n",
        "  for line in a_file:\n",
        "    #split_line = line.split(\" \")\n",
        "    #sentiments.append(split_line[0])\n",
        "    docTest.append(line)\n",
        "dfTest = pd.DataFrame()\n",
        "dfTest['review'] = docTest"
      ],
      "execution_count": null,
      "outputs": []
    },
    {
      "cell_type": "markdown",
      "metadata": {
        "id": "nxWfdE9iVv1z"
      },
      "source": [
        "### Data Exploration:\n",
        "To explore the distribution of sentiments accross the training dataset, I visualized the counts of different values for sentiment in the trainning data set. "
      ]
    },
    {
      "cell_type": "code",
      "metadata": {
        "id": "AuFFadHtrfuU",
        "colab": {
          "base_uri": "https://localhost:8080/",
          "height": 195
        },
        "outputId": "4ba8f6a8-29d5-4158-e838-52890efae921"
      },
      "source": [
        "# first five rows of train-data\n",
        "dfTrain.head(5)"
      ],
      "execution_count": null,
      "outputs": [
        {
          "output_type": "execute_result",
          "data": {
            "text/html": [
              "<div>\n",
              "<style scoped>\n",
              "    .dataframe tbody tr th:only-of-type {\n",
              "        vertical-align: middle;\n",
              "    }\n",
              "\n",
              "    .dataframe tbody tr th {\n",
              "        vertical-align: top;\n",
              "    }\n",
              "\n",
              "    .dataframe thead th {\n",
              "        text-align: right;\n",
              "    }\n",
              "</style>\n",
              "<table border=\"1\" class=\"dataframe\">\n",
              "  <thead>\n",
              "    <tr style=\"text-align: right;\">\n",
              "      <th></th>\n",
              "      <th>review</th>\n",
              "      <th>sentiment</th>\n",
              "    </tr>\n",
              "  </thead>\n",
              "  <tbody>\n",
              "    <tr>\n",
              "      <th>1</th>\n",
              "      <td>\"One of the other reviewers has mentioned that...</td>\n",
              "      <td>1</td>\n",
              "    </tr>\n",
              "    <tr>\n",
              "      <th>2</th>\n",
              "      <td>\"A wonderful little production. &lt;br /&gt;&lt;br /&gt;Th...</td>\n",
              "      <td>1</td>\n",
              "    </tr>\n",
              "    <tr>\n",
              "      <th>3</th>\n",
              "      <td>\"I thought this was a wonderful way to spend t...</td>\n",
              "      <td>1</td>\n",
              "    </tr>\n",
              "    <tr>\n",
              "      <th>4</th>\n",
              "      <td>\"Basically there's a family where a little boy...</td>\n",
              "      <td>-1</td>\n",
              "    </tr>\n",
              "    <tr>\n",
              "      <th>5</th>\n",
              "      <td>\"Petter Mattei's \"\"Love in the Time of Money\"\"...</td>\n",
              "      <td>1</td>\n",
              "    </tr>\n",
              "  </tbody>\n",
              "</table>\n",
              "</div>"
            ],
            "text/plain": [
              "                                              review sentiment\n",
              "1  \"One of the other reviewers has mentioned that...         1\n",
              "2  \"A wonderful little production. <br /><br />Th...         1\n",
              "3  \"I thought this was a wonderful way to spend t...         1\n",
              "4  \"Basically there's a family where a little boy...        -1\n",
              "5  \"Petter Mattei's \"\"Love in the Time of Money\"\"...         1"
            ]
          },
          "metadata": {
            "tags": []
          },
          "execution_count": 3
        }
      ]
    },
    {
      "cell_type": "code",
      "metadata": {
        "id": "O2hRTd9ArnoP",
        "colab": {
          "base_uri": "https://localhost:8080/",
          "height": 195
        },
        "outputId": "9b66d336-ea32-4c4b-a8f0-2dced4819dcc"
      },
      "source": [
        "# first five rows of test-data\n",
        "dfTest.head(5)"
      ],
      "execution_count": null,
      "outputs": [
        {
          "output_type": "execute_result",
          "data": {
            "text/html": [
              "<div>\n",
              "<style scoped>\n",
              "    .dataframe tbody tr th:only-of-type {\n",
              "        vertical-align: middle;\n",
              "    }\n",
              "\n",
              "    .dataframe tbody tr th {\n",
              "        vertical-align: top;\n",
              "    }\n",
              "\n",
              "    .dataframe thead th {\n",
              "        text-align: right;\n",
              "    }\n",
              "</style>\n",
              "<table border=\"1\" class=\"dataframe\">\n",
              "  <thead>\n",
              "    <tr style=\"text-align: right;\">\n",
              "      <th></th>\n",
              "      <th>review</th>\n",
              "    </tr>\n",
              "  </thead>\n",
              "  <tbody>\n",
              "    <tr>\n",
              "      <th>0</th>\n",
              "      <td>\"This film should have never been made. Honest...</td>\n",
              "    </tr>\n",
              "    <tr>\n",
              "      <th>1</th>\n",
              "      <td>This movie was bad from the start. The only pu...</td>\n",
              "    </tr>\n",
              "    <tr>\n",
              "      <th>2</th>\n",
              "      <td>\"God, I never felt so insulted in my whole lif...</td>\n",
              "    </tr>\n",
              "    <tr>\n",
              "      <th>3</th>\n",
              "      <td>\"Not being a fan of the Coen Brothers or Georg...</td>\n",
              "    </tr>\n",
              "    <tr>\n",
              "      <th>4</th>\n",
              "      <td>\"The movie Andaz Apna Apna in my books is the ...</td>\n",
              "    </tr>\n",
              "  </tbody>\n",
              "</table>\n",
              "</div>"
            ],
            "text/plain": [
              "                                              review\n",
              "0  \"This film should have never been made. Honest...\n",
              "1  This movie was bad from the start. The only pu...\n",
              "2  \"God, I never felt so insulted in my whole lif...\n",
              "3  \"Not being a fan of the Coen Brothers or Georg...\n",
              "4  \"The movie Andaz Apna Apna in my books is the ..."
            ]
          },
          "metadata": {
            "tags": []
          },
          "execution_count": 4
        }
      ]
    },
    {
      "cell_type": "code",
      "metadata": {
        "id": "0sDBpZdGFb2G",
        "colab": {
          "base_uri": "https://localhost:8080/",
          "height": 279
        },
        "outputId": "c1e2cb64-4446-4c7a-a80a-72944660f348"
      },
      "source": [
        "#ploting counts of different types of sentiment, it seems both values of sentiment(1, -1) is equally distributed\n",
        "Sentiment_count=dfTrain.groupby('sentiment').count()\n",
        "plt.bar(Sentiment_count.index.values, Sentiment_count['review'])\n",
        "plt.xlabel('Review Sentiments')\n",
        "plt.ylabel('Number of Review')\n",
        "plt.show()"
      ],
      "execution_count": null,
      "outputs": [
        {
          "output_type": "display_data",
          "data": {
            "image/png": "[encoded data removed]",
            "text/plain": [
              "<Figure size 432x288 with 1 Axes>"
            ]
          },
          "metadata": {
            "tags": [],
            "needs_background": "light"
          }
        }
      ]
    },
    {
      "cell_type": "markdown",
      "metadata": {
        "id": "7KgXZpcgZz2z"
      },
      "source": [
        "### Preprocessing train and test data:\n",
        "I pre-processed the training and testing dataframes by executing the following steps:\n",
        "1.   Removing HTML Tags\n",
        "2.   Removing URL,smileys and Email\n",
        "3.   Tokenizering review paragraph into words\n",
        "4.   Removing stopwords from tokenized reviews\n",
        "5.   Lemmatizing the tokenized filtered reviews\n",
        "\n",
        "\n",
        "\n"
      ]
    },
    {
      "cell_type": "markdown",
      "metadata": {
        "id": "9EstLgRAxJ8C"
      },
      "source": [
        "Removing XML and HTML Tags\n",
        "\n",
        "---\n",
        "I used the Beautiful Soup which is a Python library for removing the HTML and XML tags from data [1]."
      ]
    },
    {
      "cell_type": "code",
      "metadata": {
        "id": "vnpme-HTFl7I"
      },
      "source": [
        "def htmlTagRemove(df):\n",
        "  htmlRemoved = []\n",
        "  for ind,row in df.iterrows():\n",
        "    text_only = BeautifulSoup(row['review']).get_text()\n",
        "    htmlRemoved.append(text_only)\n",
        "  return  htmlRemoved"
      ],
      "execution_count": null,
      "outputs": []
    },
    {
      "cell_type": "code",
      "metadata": {
        "id": "JeAqkykUGUD8"
      },
      "source": [
        "# Removing XML and HTML Tags\n",
        "dfTrain['textOnly'] = htmlTagRemove(dfTrain)\n",
        "dfTest['textOnly'] =htmlTagRemove(dfTest)"
      ],
      "execution_count": null,
      "outputs": []
    },
    {
      "cell_type": "markdown",
      "metadata": {
        "id": "YR3jWY7vxAtK"
      },
      "source": [
        "Removing URL,smileys and Email  \n",
        "\n",
        "---\n",
        "\n",
        "\n",
        "I removed email IDs, URLs, numbers, and emotional symbols from the training and testing reviews using the python module 're' [2]."
      ]
    },
    {
      "cell_type": "code",
      "metadata": {
        "id": "0OHlf4yfHhOg"
      },
      "source": [
        "def emailURLRemove(df):\n",
        "  eURRemoved = []      \n",
        "  for ind,row in df.iterrows():\n",
        "    noEmail = re.sub(r'([\\w\\.-]+@[\\w\\.-]+\\.\\w+)','',row['textOnly'])\n",
        "    noUrl = re.sub(r'(?i)\\b((?:[a-z][\\w-]+:(?:/{1,3}|[a-z0-9%])|www\\d{0,3}[.]| \\\n",
        "        [a-z0-9.\\-]+[.][a-z]{2,4}/|[a-z0-9.\\-]+[.][a-z])(?:[^\\s()<>]+|\\(([^\\s()<>]+| \\\n",
        "        (\\([^\\s()<>]+\\)))*\\))+(?:\\(([^\\s()<>]+|(\\([^\\s()<>]+\\)))*\\)|[^\\s`!()\\[\\]{};:\\'\".,<>?«»“”‘’]))','', noEmail)\n",
        "    smileys = \"\"\":-) :) :o) :D :-D :( :-( :o(\"\"\".split()\n",
        "    smileyPattern = \"|\".join(map(re.escape, smileys))    \n",
        "    letters_only = re.sub(\"[^a-zA-Z\" + smileyPattern + \"]\", \" \", noUrl)  \n",
        "    eURRemoved.append(letters_only) \n",
        "  return  eURRemoved"
      ],
      "execution_count": null,
      "outputs": []
    },
    {
      "cell_type": "code",
      "metadata": {
        "id": "JoOtZ4iVIlrJ"
      },
      "source": [
        "#Removing URL,smileys and Email \n",
        "dfTrain['emailUrlRemoved']=emailURLRemove(dfTrain)\n",
        "dfTest['emailUrlRemoved']=emailURLRemove(dfTest)"
      ],
      "execution_count": null,
      "outputs": []
    },
    {
      "cell_type": "markdown",
      "metadata": {
        "id": "Vil8ajGOwb5Y"
      },
      "source": [
        "Tokenizing review paragraphs into words:\n",
        "\n",
        "---\n",
        "I have used nltk Word Tokenizer to break the review paragraphs into individual words [3]."
      ]
    },
    {
      "cell_type": "code",
      "metadata": {
        "id": "bpDBDXBJIoCm"
      },
      "source": [
        "def tokenize(df):\n",
        "  tokenSent = []\n",
        "  for ind,row in df.iterrows():\n",
        "    tokenized_text=word_tokenize(row['emailUrlRemoved'])\n",
        "    tokenSent.append(tokenized_text)\n",
        "  return tokenSent;  "
      ],
      "execution_count": null,
      "outputs": []
    },
    {
      "cell_type": "code",
      "metadata": {
        "id": "6wJWIrtoJoyb"
      },
      "source": [
        "# Tokenizing review paragraphs into words\n",
        "dfTrain['tokenized']=tokenize(dfTrain)\n",
        "dfTest['tokenized']=tokenize(dfTest)"
      ],
      "execution_count": null,
      "outputs": []
    },
    {
      "cell_type": "markdown",
      "metadata": {
        "id": "gsHVNFouwNCc"
      },
      "source": [
        "Removing stopwords from tokenized reviews:\n",
        "\n",
        "---\n",
        "\n",
        "\n",
        "Stopwords considered as noise in the text. Text may contain stop words such as is, am, are, this, a, an, the, etc. I stored the stopwords of english language in a list \"stop_words\", and filtered out them from the review tokens.Finally coverted the words into lower case.\n"
      ]
    },
    {
      "cell_type": "markdown",
      "metadata": {
        "id": "QtYz469NyDVg"
      },
      "source": [
        "\n",
        "\n",
        "```\n",
        "stop_words=set(stopwords.words(\"english\"))\n",
        "```\n",
        "\n"
      ]
    },
    {
      "cell_type": "code",
      "metadata": {
        "id": "UcsK2EN4LVdv"
      },
      "source": [
        "stop_words=set(stopwords.words(\"english\"))\n",
        "def filtering(df):\n",
        "  filtered=[]\n",
        "  for ind,row in df.iterrows():\n",
        "    tokenized_sent=row['tokenized']\n",
        "    filtered_sent=[]\n",
        "    for w in tokenized_sent:\n",
        "      if w not in stop_words:\n",
        "          filtered_sent.append(w.lower()) # converting the word into lower case\n",
        "    filtered.append(filtered_sent)\n",
        "  return filtered;  "
      ],
      "execution_count": null,
      "outputs": []
    },
    {
      "cell_type": "code",
      "metadata": {
        "id": "PnPuxA60Mhr7"
      },
      "source": [
        "#Removing stop words\n",
        "dfTrain['filtered']=filtering(dfTrain)\n",
        "dfTest['filtered']=filtering(dfTest)"
      ],
      "execution_count": null,
      "outputs": []
    },
    {
      "cell_type": "markdown",
      "metadata": {
        "id": "3BG94vA3z3lG"
      },
      "source": [
        "Lemmatizing the tokenized filtered review\n",
        "\n",
        "---\n",
        "\n",
        "\n",
        "Another type of noise in text is different types of forms of same word. This noise can be reduced by Lexicon normalization which transforms related forms of a word to a common root word. As lexicon normalizer, I used Lemmatization. Lemmatization reduces words to their base word, which is linguistically correct lemmas. It transforms root word with the use of vocabulary and morphological analysis [4]. Finally I combine the tokens and form review paragraphs again."
      ]
    },
    {
      "cell_type": "code",
      "metadata": {
        "id": "zN3JNn7YNBc8"
      },
      "source": [
        "def lemmatizing(df):\n",
        "  lemmatized=[]\n",
        "  for ind,row in df.iterrows():\n",
        "    filtered_sent=row['filtered']\n",
        "    lemmatized_sent=[]\n",
        "    for w in filtered_sent:\n",
        "        lemmatized_sent.append(lem.lemmatize(w))\n",
        "    str1 = ' '.join(lemmatized_sent)\n",
        "    lemmatized.append(str1)\n",
        "  return lemmatized;  "
      ],
      "execution_count": null,
      "outputs": []
    },
    {
      "cell_type": "code",
      "metadata": {
        "id": "VCFtfP7PPgPd"
      },
      "source": [
        "#Lemmatizing the tokenized filtered review\n",
        "dfTrain['lemmatized']=lemmatizing(dfTrain)\n",
        "dfTest['lemmatized']=lemmatizing(dfTest)"
      ],
      "execution_count": null,
      "outputs": []
    },
    {
      "cell_type": "code",
      "metadata": {
        "id": "YBrpe4PC1etF",
        "colab": {
          "base_uri": "https://localhost:8080/",
          "height": 279
        },
        "outputId": "110f252b-082c-4543-db85-c55fb641a1a6"
      },
      "source": [
        "### After pre-processing first five rows of train-data\n",
        "dfTrain.head(5)"
      ],
      "execution_count": null,
      "outputs": [
        {
          "output_type": "execute_result",
          "data": {
            "text/html": [
              "<div>\n",
              "<style scoped>\n",
              "    .dataframe tbody tr th:only-of-type {\n",
              "        vertical-align: middle;\n",
              "    }\n",
              "\n",
              "    .dataframe tbody tr th {\n",
              "        vertical-align: top;\n",
              "    }\n",
              "\n",
              "    .dataframe thead th {\n",
              "        text-align: right;\n",
              "    }\n",
              "</style>\n",
              "<table border=\"1\" class=\"dataframe\">\n",
              "  <thead>\n",
              "    <tr style=\"text-align: right;\">\n",
              "      <th></th>\n",
              "      <th>review</th>\n",
              "      <th>sentiment</th>\n",
              "      <th>textOnly</th>\n",
              "      <th>emailUrlRemoved</th>\n",
              "      <th>tokenized</th>\n",
              "      <th>filtered</th>\n",
              "      <th>lemmatized</th>\n",
              "    </tr>\n",
              "  </thead>\n",
              "  <tbody>\n",
              "    <tr>\n",
              "      <th>1</th>\n",
              "      <td>\"One of the other reviewers has mentioned that...</td>\n",
              "      <td>1</td>\n",
              "      <td>\"One of the other reviewers has mentioned that...</td>\n",
              "      <td>One of the other reviewers has mentioned that...</td>\n",
              "      <td>[One, of, the, other, reviewers, has, mentione...</td>\n",
              "      <td>[one, reviewers, mentioned, watching, oz, epis...</td>\n",
              "      <td>one reviewer mentioned watching oz episode hoo...</td>\n",
              "    </tr>\n",
              "    <tr>\n",
              "      <th>2</th>\n",
              "      <td>\"A wonderful little production. &lt;br /&gt;&lt;br /&gt;Th...</td>\n",
              "      <td>1</td>\n",
              "      <td>\"A wonderful little production. The filming te...</td>\n",
              "      <td>A wonderful little production  The filming te...</td>\n",
              "      <td>[A, wonderful, little, production, The, filmin...</td>\n",
              "      <td>[a, wonderful, little, production, the, filmin...</td>\n",
              "      <td>a wonderful little production the filming tech...</td>\n",
              "    </tr>\n",
              "    <tr>\n",
              "      <th>3</th>\n",
              "      <td>\"I thought this was a wonderful way to spend t...</td>\n",
              "      <td>1</td>\n",
              "      <td>\"I thought this was a wonderful way to spend t...</td>\n",
              "      <td>I thought this was a wonderful way to spend t...</td>\n",
              "      <td>[I, thought, this, was, a, wonderful, way, to,...</td>\n",
              "      <td>[i, thought, wonderful, way, spend, time, hot,...</td>\n",
              "      <td>i thought wonderful way spend time hot summer ...</td>\n",
              "    </tr>\n",
              "    <tr>\n",
              "      <th>4</th>\n",
              "      <td>\"Basically there's a family where a little boy...</td>\n",
              "      <td>-1</td>\n",
              "      <td>\"Basically there's a family where a little boy...</td>\n",
              "      <td>Basically there s a family where a little boy...</td>\n",
              "      <td>[Basically, there, s, a, family, where, a, lit...</td>\n",
              "      <td>[basically, family, little, boy, (, jake, ), t...</td>\n",
              "      <td>basically family little boy ( jake ) think zom...</td>\n",
              "    </tr>\n",
              "    <tr>\n",
              "      <th>5</th>\n",
              "      <td>\"Petter Mattei's \"\"Love in the Time of Money\"\"...</td>\n",
              "      <td>1</td>\n",
              "      <td>\"Petter Mattei's \"\"Love in the Time of Money\"\"...</td>\n",
              "      <td>Petter Mattei s   Love in the Time of Money  ...</td>\n",
              "      <td>[Petter, Mattei, s, Love, in, the, Time, of, M...</td>\n",
              "      <td>[petter, mattei, love, time, money, visually, ...</td>\n",
              "      <td>petter mattei love time money visually stunnin...</td>\n",
              "    </tr>\n",
              "  </tbody>\n",
              "</table>\n",
              "</div>"
            ],
            "text/plain": [
              "                                              review  ...                                         lemmatized\n",
              "1  \"One of the other reviewers has mentioned that...  ...  one reviewer mentioned watching oz episode hoo...\n",
              "2  \"A wonderful little production. <br /><br />Th...  ...  a wonderful little production the filming tech...\n",
              "3  \"I thought this was a wonderful way to spend t...  ...  i thought wonderful way spend time hot summer ...\n",
              "4  \"Basically there's a family where a little boy...  ...  basically family little boy ( jake ) think zom...\n",
              "5  \"Petter Mattei's \"\"Love in the Time of Money\"\"...  ...  petter mattei love time money visually stunnin...\n",
              "\n",
              "[5 rows x 7 columns]"
            ]
          },
          "metadata": {
            "tags": []
          },
          "execution_count": 16
        }
      ]
    },
    {
      "cell_type": "code",
      "metadata": {
        "id": "Va1x3kdR18W6",
        "colab": {
          "base_uri": "https://localhost:8080/",
          "height": 279
        },
        "outputId": "027be2ea-da36-4f95-9f1d-1796a9d599ed"
      },
      "source": [
        "### After pre-processing first five rows of train-data\n",
        "dfTest.head(5)"
      ],
      "execution_count": null,
      "outputs": [
        {
          "output_type": "execute_result",
          "data": {
            "text/html": [
              "<div>\n",
              "<style scoped>\n",
              "    .dataframe tbody tr th:only-of-type {\n",
              "        vertical-align: middle;\n",
              "    }\n",
              "\n",
              "    .dataframe tbody tr th {\n",
              "        vertical-align: top;\n",
              "    }\n",
              "\n",
              "    .dataframe thead th {\n",
              "        text-align: right;\n",
              "    }\n",
              "</style>\n",
              "<table border=\"1\" class=\"dataframe\">\n",
              "  <thead>\n",
              "    <tr style=\"text-align: right;\">\n",
              "      <th></th>\n",
              "      <th>review</th>\n",
              "      <th>textOnly</th>\n",
              "      <th>emailUrlRemoved</th>\n",
              "      <th>tokenized</th>\n",
              "      <th>filtered</th>\n",
              "      <th>lemmatized</th>\n",
              "    </tr>\n",
              "  </thead>\n",
              "  <tbody>\n",
              "    <tr>\n",
              "      <th>0</th>\n",
              "      <td>\"This film should have never been made. Honest...</td>\n",
              "      <td>\"This film should have never been made. Honest...</td>\n",
              "      <td>This film should have never been made  Honest...</td>\n",
              "      <td>[This, film, should, have, never, been, made, ...</td>\n",
              "      <td>[this, film, never, made, honestly, i, must, a...</td>\n",
              "      <td>this film never made honestly i must admit i s...</td>\n",
              "    </tr>\n",
              "    <tr>\n",
              "      <th>1</th>\n",
              "      <td>This movie was bad from the start. The only pu...</td>\n",
              "      <td>This movie was bad from the start. The only pu...</td>\n",
              "      <td>This movie was bad from the start  The only pu...</td>\n",
              "      <td>[This, movie, was, bad, from, the, start, The,...</td>\n",
              "      <td>[this, movie, bad, start, the, purpose, movie,...</td>\n",
              "      <td>this movie bad start the purpose movie angela ...</td>\n",
              "    </tr>\n",
              "    <tr>\n",
              "      <th>2</th>\n",
              "      <td>\"God, I never felt so insulted in my whole lif...</td>\n",
              "      <td>\"God, I never felt so insulted in my whole lif...</td>\n",
              "      <td>God  I never felt so insulted in my whole lif...</td>\n",
              "      <td>[God, I, never, felt, so, insulted, in, my, wh...</td>\n",
              "      <td>[god, i, never, felt, insulted, whole, life, c...</td>\n",
              "      <td>god i never felt insulted whole life crap ther...</td>\n",
              "    </tr>\n",
              "    <tr>\n",
              "      <th>3</th>\n",
              "      <td>\"Not being a fan of the Coen Brothers or Georg...</td>\n",
              "      <td>\"Not being a fan of the Coen Brothers or Georg...</td>\n",
              "      <td>Not being a fan of the Coen Brothers or Georg...</td>\n",
              "      <td>[Not, being, a, fan, of, the, Coen, Brothers, ...</td>\n",
              "      <td>[not, fan, coen, brothers, george, clooney, an...</td>\n",
              "      <td>not fan coen brother george clooney anyone see...</td>\n",
              "    </tr>\n",
              "    <tr>\n",
              "      <th>4</th>\n",
              "      <td>\"The movie Andaz Apna Apna in my books is the ...</td>\n",
              "      <td>\"The movie Andaz Apna Apna in my books is the ...</td>\n",
              "      <td>The movie Andaz Apna Apna in my books is the ...</td>\n",
              "      <td>[The, movie, Andaz, Apna, Apna, in, my, books,...</td>\n",
              "      <td>[the, movie, andaz, apna, apna, books, top, in...</td>\n",
              "      <td>the movie andaz apna apna book top intelligent...</td>\n",
              "    </tr>\n",
              "  </tbody>\n",
              "</table>\n",
              "</div>"
            ],
            "text/plain": [
              "                                              review  ...                                         lemmatized\n",
              "0  \"This film should have never been made. Honest...  ...  this film never made honestly i must admit i s...\n",
              "1  This movie was bad from the start. The only pu...  ...  this movie bad start the purpose movie angela ...\n",
              "2  \"God, I never felt so insulted in my whole lif...  ...  god i never felt insulted whole life crap ther...\n",
              "3  \"Not being a fan of the Coen Brothers or Georg...  ...  not fan coen brother george clooney anyone see...\n",
              "4  \"The movie Andaz Apna Apna in my books is the ...  ...  the movie andaz apna apna book top intelligent...\n",
              "\n",
              "[5 rows x 6 columns]"
            ]
          },
          "metadata": {
            "tags": []
          },
          "execution_count": 17
        }
      ]
    },
    {
      "cell_type": "markdown",
      "metadata": {
        "id": "eiQ3c9IZQKTK"
      },
      "source": [
        "### Feature Engineering: \n",
        "For feature engineering, I have used TF-IDF scores. TF-IDF stands for Term Frequency — Inverse Document Frequency. This metric considers the number of appearance of a word in a document vs the number of appearance same word appears other documents in the dataset. And for every word, the TF-IDF value increases with every appearance of the word in a document, but is gradually decreased with every appearance in other documents.\n",
        "![0_rs8otIUS1Vu3nOMY.png](data:image/png;base64,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)\n",
        "\n",
        "where, \n",
        "*   f(w, d) = term-frequecy of word w in document d \n",
        "*   tf(w,d) = log(1+f(w,d))\n",
        "*   f(w,D) = term-frequency of word w in whole dataset D\n",
        "*   idf(w,D) = log(N/f(w,D)), for N number of documents\n",
        "\n",
        "\n",
        "      \n",
        "\n",
        "\n",
        "       \n"
      ]
    },
    {
      "cell_type": "markdown",
      "metadata": {
        "id": "Tx73-zOXjxaG"
      },
      "source": [
        "I used TF-IDF Sklearn Python to calculate the tf-idf score. There are two different ways of implementing TF-IDF using Scikit-Learn. One is using the TfidfVectorizer class and the other one is by using the TfidfTransformer class.I TfidfVectorizer class for calualting TF-IDF for each word w. For the purpose of experimenting, I applied two approach of this class to validate my K-nearest neighbor classifier.\n",
        "\n",
        "1.   TfidfVectorizer()- Usual class which takes the counts for each word to generate score.\n",
        "2.   TfidfVectorizer(binary=True)- If True, all non-zero term counts are set to 1. This does not mean outputs will have only 0/1 values, only that the tf term in tf-idf is binary. It only check whether the word was in the document or not. As this is a binary classification problem, the reviews are either positive or negative, I thought it will be a good idea to try it out. In case of multi-class problem this method may not result in better accuracy.\n",
        "\n"
      ]
    },
    {
      "cell_type": "markdown",
      "metadata": {
        "id": "WfLU-ue_mS1q"
      },
      "source": [
        "I compared the results for both of them."
      ]
    },
    {
      "cell_type": "code",
      "metadata": {
        "id": "LV_S-aH0mSAh"
      },
      "source": [
        "# Calculating tf-idf scores\n",
        "tf=TfidfVectorizer() # TfidfVectorizer with non-binary tf term\n",
        "tf_fit = tf.fit(dfTrain['lemmatized']) #Learning vocabulary and idf from training set.\n",
        "text_tf= tf_fit.transform(dfTrain['lemmatized']) #Transforming documents to document-term matrix."
      ],
      "execution_count": null,
      "outputs": []
    },
    {
      "cell_type": "code",
      "metadata": {
        "id": "P8se05unP8WL"
      },
      "source": [
        "# Calculating tf-idf scores\n",
        "tfBinary=TfidfVectorizer(binary=True) #TfidfVectorizer with binary tf term\n",
        "tfBinary_fit = tfBinary.fit(dfTrain['lemmatized']) #Learning vocabulary and idf from training set.\n",
        "text_tfBinary= tfBinary_fit.transform(dfTrain['lemmatized']) #Transforming documents to document-term matrix."
      ],
      "execution_count": null,
      "outputs": []
    },
    {
      "cell_type": "markdown",
      "metadata": {
        "id": "eKY4-X7lo4Hd"
      },
      "source": [
        "### K Nearnest Neighbor Algorithm\n",
        "\n",
        "In my K Nearnest Neighbor Classifier, I took the preprocessed reviews of training, testing set, sentiments for training set, and the value of K as argument. In next step, I calculated the Tf-idf scores using Tf-idf model for both of the reviews of training and testing data set. Later, I calculated the cosine similarity between them and store the values in a dictionary. where the key is each review of the test set and the values are the similarities with each review of the train set. Then I took top K training set with maximum similarity and performed majority voting on the sentiments of K number of nearest reviews. Stored the sentiment prediction for each test-set entity in a list predicted and returned it. The vocabulary size for my dataset was around 55k."
      ]
    },
    {
      "cell_type": "code",
      "metadata": {
        "id": "XGvC7WFGo9Bu"
      },
      "source": [
        "def KNN(X_test,X_train,y_train,k):\n",
        "  tfBinary_fit =tfBinary.fit(X_train)\n",
        "  Xtrain =tfBinary_fit.transform(X_train) #Transforming documents to document-term matrix\n",
        "  Xtest =tfBinary_fit.transform(X_test) #Transforming documents to document-term matrix\n",
        "  sim_sparse = cosine_similarity( Xtest, Xtrain, dense_output=False) # calculating cosine similarity for each entry of test set with all entries of training set\n",
        "  sim = sim_sparse.toarray()\n",
        "  y_train = y_train.values\n",
        "  predicted=[]\n",
        "  for j in range(0,len(sim)):\n",
        "    dicta={}\n",
        "    for i in range(0,len(sim[j])):\n",
        "      dicta[i] = sim[j][i]\n",
        "      # print(i,j)\n",
        "    d_descending = OrderedDict(sorted(dicta.items(), \n",
        "                                      key=lambda t: t[1],reverse=True)) #used orderedDict to sort the dictionary based on similarity\n",
        "    temp=[]\n",
        "    for u in list(d_descending)[0:k]:\n",
        "      temp.append(y_train[u])\n",
        "    # print(temp)\n",
        "    m = Counter(temp).most_common()[0][0] # used counter to implement majority voting thus getting the most common value\n",
        "    predicted.append(m)\n",
        "  return predicted;  "
      ],
      "execution_count": null,
      "outputs": []
    },
    {
      "cell_type": "markdown",
      "metadata": {
        "id": "OhJLibCtsmPd"
      },
      "source": [
        "### Training and Testing Set split\n",
        "To validate my model, I split the training data set into training set and validation set or test set. The test set is the 20% of the original training dataset and the train set is the rest 80%.  "
      ]
    },
    {
      "cell_type": "code",
      "metadata": {
        "id": "GWunokAKQdUZ"
      },
      "source": [
        "from sklearn.model_selection import train_test_split\n",
        "X_train, X_test, y_train, y_test = train_test_split(\n",
        "    dfTrain['lemmatized'], dfTrain['sentiment'], test_size=0.2, random_state=1)"
      ],
      "execution_count": null,
      "outputs": []
    },
    {
      "cell_type": "code",
      "metadata": {
        "id": "W4Mimk74Vdpg",
        "colab": {
          "base_uri": "https://localhost:8080/",
          "height": 34
        },
        "outputId": "fe108867-847c-48b3-8637-45feb2d8c253"
      },
      "source": [
        "predicted  = KNN(X_test,X_train,y_train,56)\n",
        "print(\"Prediction accuracy\", metrics.accuracy_score(y_test, predicted))"
      ],
      "execution_count": null,
      "outputs": [
        {
          "output_type": "stream",
          "text": [
            "Prediction accuracy 0.8643333333333333\n"
          ],
          "name": "stdout"
        }
      ]
    },
    {
      "cell_type": "code",
      "metadata": {
        "id": "JoFYaeCNGNqL"
      },
      "source": [
        "#Commenting out this portion of determining k value as it takes a lot of time to calculate accuracy for 96 values of K. I have attached the .json file storing the accuracy values\n",
        "accuracy={}\n",
        "for i in range(3,100):\n",
        "  predicted  = KNN(X_test,X_train,y_train,i)\n",
        "  a = metrics.accuracy_score(y_test, predicted)\n",
        "  accuracy[i]=a\n",
        "  \n",
        "with open('my_dict.json', 'w') as f:\n",
        "    json.dump(accuracy, f)"
      ],
      "execution_count": null,
      "outputs": []
    },
    {
      "cell_type": "markdown",
      "metadata": {
        "id": "uR8TG_YyuLra"
      },
      "source": [
        "### Determining the value of K"
      ]
    },
    {
      "cell_type": "markdown",
      "metadata": {
        "id": "DES6nDoMuVRS"
      },
      "source": [
        "For determinig the appropriate K value which will maximize the accuracy, I calculated the prediction for K values range(3 to 99) and calculated the accuracy using sklearn.accuracy_metrics. I excuted the algorithm for both the usual Tfidf and binary Tfidf vectorizer and ploted the accuracy observed for each K. Stored in json files. The values can be again gained from the json files."
      ]
    },
    {
      "cell_type": "code",
      "metadata": {
        "id": "YEWI-y0yuUcA"
      },
      "source": [
        "#Loading dictionaries with accuracy with K values. Keys: K value, Value: Accuracy\n",
        "with open('my_dict1.json') as f:\n",
        "    temp = json.load(f)\n",
        "accuracy = {}\n",
        "for key in temp.keys():\n",
        "    accuracy[int(key)] = temp[key] # converting the datatype of dictinary to int for ploting purpose   \n",
        "\n",
        "#accuracy = {int(k):int(v) for k,v in accuracy.items()}    \n",
        "with open('my_dict.json') as f:\n",
        "    temp = json.load(f)\n",
        "accuracyBinary = {}\n",
        "for key in temp.keys():\n",
        "    accuracyBinary[int(key)] = temp[key]    \n"
      ],
      "execution_count": null,
      "outputs": []
    },
    {
      "cell_type": "code",
      "metadata": {
        "id": "ev9Qk0F80VA-",
        "colab": {
          "base_uri": "https://localhost:8080/",
          "height": 295
        },
        "outputId": "6c8f5525-124a-4616-9b51-91a290b64349"
      },
      "source": [
        "lists = sorted(accuracy.items()) # sorted by key, return a list of tuples\n",
        "x, y = zip(*lists) # unpack a list of pairs into two tuples\n",
        "plt.plot(x, y)\n",
        "plt.xlabel(\"K value\")\n",
        "plt.ylabel(\"Prediction Accuracy\")\n",
        "plt.title(\"K value vs Prediction Accuracy for non-binary vectorizer\")\n",
        "plt.show()"
      ],
      "execution_count": null,
      "outputs": [
        {
          "output_type": "display_data",
          "data": {
            "image/png": "[encoded data removed]",
            "text/plain": [
              "<Figure size 432x288 with 1 Axes>"
            ]
          },
          "metadata": {
            "tags": [],
            "needs_background": "light"
          }
        }
      ]
    },
    {
      "cell_type": "code",
      "metadata": {
        "id": "viWgHNPk0zND",
        "colab": {
          "base_uri": "https://localhost:8080/",
          "height": 295
        },
        "outputId": "be383499-a97b-47af-f086-2687f9ddee7c"
      },
      "source": [
        "lists = sorted(accuracyBinary.items()) # sorted by key, return a list of tuples\n",
        "x, y = zip(*lists) # unpack a list of pairs into two tuples\n",
        "plt.plot(x, y)\n",
        "plt.xlabel(\"K value\")\n",
        "plt.ylabel(\"Prediction Accuracy\")\n",
        "plt.title(\"K value vs Prediction Accuracy for Binary vectorizer\")\n",
        "plt.show()"
      ],
      "execution_count": null,
      "outputs": [
        {
          "output_type": "display_data",
          "data": {
            "image/png": "[encoded data removed]",
            "text/plain": [
              "<Figure size 432x288 with 1 Axes>"
            ]
          },
          "metadata": {
            "tags": [],
            "needs_background": "light"
          }
        }
      ]
    },
    {
      "cell_type": "markdown",
      "metadata": {
        "id": "Xt-GePev2Dt-"
      },
      "source": [
        "From the above plots, it can been seen that the classifier provides better accuracy for the binary tf-idf vectorizer."
      ]
    },
    {
      "cell_type": "code",
      "metadata": {
        "id": "mh1M2jXpyQI-",
        "colab": {
          "base_uri": "https://localhost:8080/",
          "height": 34
        },
        "outputId": "f43a6c31-32b9-4a8b-98f3-8eda3f095395"
      },
      "source": [
        "max_key = max(accuracyBinary, key=accuracyBinary. get) \n",
        "print( \"K=\", max_key,\", Accuracy=\", accuracyBinary[max_key])"
      ],
      "execution_count": null,
      "outputs": [
        {
          "output_type": "stream",
          "text": [
            "K= 56 , Accuracy= 0.8455555555555555\n"
          ],
          "name": "stdout"
        }
      ]
    },
    {
      "cell_type": "markdown",
      "metadata": {
        "id": "MPc9dVv622_-"
      },
      "source": [
        "For K = 56, the prediction accuracy was maximum. \n",
        "Accuracy = 0.845555555"
      ]
    },
    {
      "cell_type": "markdown",
      "metadata": {
        "id": "m70R8WeT3oUI"
      },
      "source": [
        "### K fold cross validation\n",
        "\n",
        "For testing the KNN classifier, I also executed the 3fold and 5fold cross validation on the originial data set and measured the accuracy scores for K= 56. "
      ]
    },
    {
      "cell_type": "code",
      "metadata": {
        "id": "O8umj6LowG43",
        "colab": {
          "base_uri": "https://localhost:8080/",
          "height": 101
        },
        "outputId": "b936fd2d-ef92-46f2-8e01-a5015f7168a6"
      },
      "source": [
        "from sklearn.model_selection import KFold\n",
        "kf5 = KFold(n_splits=5, shuffle=False)\n",
        "kf3 = KFold(n_splits=3, shuffle=False)\n",
        "i = 1\n",
        "# 5-fold validation for K =56\n",
        "for train_index, test_index in kf5.split(dfTrain):\n",
        "    X_train = dfTrain.iloc[train_index].loc[:, 'lemmatized']\n",
        "    X_test = dfTrain.iloc[test_index]['lemmatized']\n",
        "    y_train = dfTrain.iloc[train_index].loc[:,'sentiment']\n",
        "    y_test = dfTrain.iloc[test_index]['sentiment']\n",
        "    predicted = KNN(X_test,X_train,y_train,56)\n",
        "    print(f\"Accuracy for the fold no. {i} on the test set: {accuracy_score(y_test, KNN(X_test,X_train,y_train,56))}\")\n",
        "    i += 1"
      ],
      "execution_count": null,
      "outputs": [
        {
          "output_type": "stream",
          "text": [
            "Accuracy for the fold no. 1 on the test set: 0.8583333333333333\n",
            "Accuracy for the fold no. 2 on the test set: 0.8503333333333334\n",
            "Accuracy for the fold no. 3 on the test set: 0.8423333333333334\n",
            "Accuracy for the fold no. 4 on the test set: 0.8416666666666667\n",
            "Accuracy for the fold no. 5 on the test set: 0.8499499833277759\n"
          ],
          "name": "stdout"
        }
      ]
    },
    {
      "cell_type": "code",
      "metadata": {
        "id": "pgn9a7y07HV7",
        "colab": {
          "base_uri": "https://localhost:8080/",
          "height": 67
        },
        "outputId": "3f2f04d5-00a7-402f-ff1f-001768851af5"
      },
      "source": [
        "# 3-fold validation for K =56\n",
        "i = 1\n",
        "for train_index, test_index in kf3.split(dfTrain):\n",
        "    X_train = dfTrain.iloc[train_index].loc[:, 'lemmatized']\n",
        "    X_test = dfTrain.iloc[test_index]['lemmatized']\n",
        "    y_train = dfTrain.iloc[train_index].loc[:,'sentiment']\n",
        "    y_test = dfTrain.iloc[test_index]['sentiment']\n",
        "    predicted = KNN(X_test,X_train,y_train,56)\n",
        "    print(f\"Accuracy for the fold no. {i} on the test set: {accuracy_score(y_test, KNN(X_test,X_train,y_train,56))}\")\n",
        "    i += 1"
      ],
      "execution_count": null,
      "outputs": [
        {
          "output_type": "stream",
          "text": [
            "Accuracy for the fold no. 1 on the test set: 0.854\n",
            "Accuracy for the fold no. 2 on the test set: 0.838\n",
            "Accuracy for the fold no. 3 on the test set: 0.8473694738947789\n"
          ],
          "name": "stdout"
        }
      ]
    },
    {
      "cell_type": "markdown",
      "metadata": {
        "id": "PEK7Rg5K9gph"
      },
      "source": [
        "### Predicting sentiment for the testing dataset"
      ]
    },
    {
      "cell_type": "code",
      "metadata": {
        "id": "bpiigij1xE4k"
      },
      "source": [
        "X_test = dfTest['lemmatized']\n",
        "X_train = dfTrain['lemmatized']\n",
        "y_train = dfTrain['sentiment']\n",
        "predicted = KNN(X_test,X_train,y_train,56)"
      ],
      "execution_count": null,
      "outputs": []
    },
    {
      "cell_type": "code",
      "metadata": {
        "id": "qnTJE__ah0XS"
      },
      "source": [
        "with open('format.txt', 'w') as filehandle:\n",
        "    for listitem in predicted:\n",
        "        filehandle.write('%s\\n' % listitem)"
      ],
      "execution_count": null,
      "outputs": []
    },
    {
      "cell_type": "markdown",
      "metadata": {
        "id": "e2wY6QnpqTWT"
      },
      "source": [
        "### References:\n",
        "\n",
        "\n",
        "1.  https://www.crummy.com/software/BeautifulSoup/bs4/doc/\n",
        "2.  https://github.com/sowmyagowri/IMDB-Movie-Review-Classification/blob/master/Classifier.ipynb?fbclid=IwAR16EvL2novWBnU6q2TGopCHscHz5pwcuQEScsEfh6HhEwOqz1awsZCeo4o\n",
        "3. https://pythonspot.com/tokenizing-words-and-sentences-with-nltk/\n",
        "4. https://www.geeksforgeeks.org/python-lemmatization-with-nltk/\n",
        "5. https://towardsdatascience.com/tf-idf-explained-and-python-sklearn-implementation-b020c5e83275\n",
        "\n"
      ]
    },
    {
      "cell_type": "code",
      "metadata": {
        "id": "M12XU_fSKR1a"
      },
      "source": [
        ""
      ],
      "execution_count": null,
      "outputs": []
    }
  ]
}